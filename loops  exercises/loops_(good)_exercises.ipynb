{
 "cells": [
  {
   "attachments": {},
   "cell_type": "markdown",
   "id": "123456",
   "metadata": {},
   "source": [
    "<div style=\"text-align:left;font-size:2em\"><span style=\"font-weight:bolder;font-size:1.25em\">SP2273 | Learning Portfolio</span><br><br><span style=\"font-weight:bold;color:darkred\">Loops (Good) Exercises</span></div>"
   ]
  },
  {
   "cell_type": "markdown",
   "id": "4bb324ea-246d-4544-ab82-ebd28134f05c",
   "metadata": {},
   "source": [
    "**Exercise 1**"
   ]
  },
  {
   "cell_type": "code",
   "execution_count": 8,
   "id": "0964309a-909c-462f-bd93-fe05eb4b7ef7",
   "metadata": {},
   "outputs": [
    {
     "name": "stdout",
     "output_type": "stream",
     "text": [
      "1.73 µs ± 123 ns per loop (mean ± std. dev. of 7 runs, 100,000 loops each)\n"
     ]
    }
   ],
   "source": [
    "%%timeit\n",
    "\n",
    "for number in range(10):\n",
    "    if number % 2 == 0:\n",
    "        continue\n",
    "    square = number**2\n",
    "    #print(square)\n"
   ]
  },
  {
   "cell_type": "markdown",
   "id": "e978a7fa-2378-4909-a3a4-5e4ab7b08f3f",
   "metadata": {},
   "source": [
    "**Exercise 2**"
   ]
  },
  {
   "cell_type": "code",
   "execution_count": 3,
   "id": "9e7c51a4-f9c2-45e4-adc9-093750c72db6",
   "metadata": {},
   "outputs": [
    {
     "name": "stdout",
     "output_type": "stream",
     "text": [
      "2.19 µs ± 157 ns per loop (mean ± std. dev. of 7 runs, 100,000 loops each)\n"
     ]
    }
   ],
   "source": [
    "%%timeit\n",
    "squares = [number**2 for number in range(10) if number % 2 != 0]\n",
    "#print(squares)\n"
   ]
  },
  {
   "cell_type": "markdown",
   "id": "9f3dcb07-6f7b-45a5-abf8-a4d9a819b07f",
   "metadata": {},
   "source": [
    "**Exercise 3**"
   ]
  },
  {
   "cell_type": "markdown",
   "id": "655ad94b-81b1-4c65-a0ca-4d53b9c5bf96",
   "metadata": {},
   "source": [
    "- Exercise 1: 1.73 µs ± 123 ns per loop (mean ± std. dev. of 7 runs, 100,000 loops each)\n",
    "- Exercise 2: 2.19 µs ± 157 ns per loop (mean ± std. dev. of 7 runs, 100,000 loops each)"
   ]
  },
  {
   "cell_type": "markdown",
   "id": "c3e55511-28c1-4e1b-b167-64a44a8ef8d4",
   "metadata": {},
   "source": [
    "**Exercise 4**"
   ]
  },
  {
   "cell_type": "code",
   "execution_count": 11,
   "id": "36a34905-d497-4bf9-8f58-fe5dcf848822",
   "metadata": {},
   "outputs": [
    {
     "name": "stdout",
     "output_type": "stream",
     "text": [
      "It takes 14 years for the sample to reduce to half its original amount.\n"
     ]
    }
   ],
   "source": [
    "initial_quantity = 100\n",
    "decay_rate = 0.05\n",
    "current_quantity = initial_quantity\n",
    "years = 0\n",
    "\n",
    "while current_quantity > initial_quantity / 2:\n",
    "    current_quantity *= (1 - decay_rate)\n",
    "    years += 1\n",
    "\n",
    "print(f\"It takes {years} years for the sample to reduce to half its original amount.\")\n"
   ]
  },
  {
   "cell_type": "markdown",
   "id": "285eef59-364d-4325-aa68-74894284700c",
   "metadata": {},
   "source": [
    "**Exercise 5**"
   ]
  },
  {
   "cell_type": "code",
   "execution_count": 14,
   "id": "4afc85d2-14bd-4aea-96d6-53b0dc8991eb",
   "metadata": {},
   "outputs": [
    {
     "name": "stdout",
     "output_type": "stream",
     "text": [
      "Year 2016: Change in CO2 concentration = 3.41 ppm\n"
     ]
    }
   ],
   "source": [
    "co2_data = [\n",
    "    (2000, 369.55), (2001, 371.14), (2002, 373.28), \n",
    "    (2003, 375.80), (2004, 377.52), (2005, 379.80), \n",
    "    (2006, 381.90), (2007, 383.79), (2008, 385.60), \n",
    "    (2009, 387.43), (2010, 389.90), (2011, 391.65), \n",
    "    (2012, 393.85), (2013, 396.52), (2014, 398.65),\n",
    "    (2015, 400.83), (2016, 404.24), (2017, 406.55), \n",
    "    (2018, 408.52), (2019, 411.44), (2020, 414.24)\n",
    "]\n",
    "\n",
    "years_with_increase = []\n",
    "\n",
    "for i in range(1, len(co2_data)):\n",
    "    current_year, current_co2 = co2_data[i]\n",
    "    previous_year, previous_co2 = co2_data[i - 1]\n",
    "    change_in_concentration = current_co2 - previous_co2 \n",
    "    if change_in_concentration >= 3:\n",
    "        years_with_increase.append((current_year, change_in_concentration))\n",
    "for year, change in years_with_increase:\n",
    "    print(f\"Year {year}: Change in CO2 concentration = {change:.2f} ppm\")\n"
   ]
  }
 ],
 "metadata": {
  "kernelspec": {
   "display_name": "Python 3 (ipykernel)",
   "language": "python",
   "name": "python3"
  },
  "language_info": {
   "codemirror_mode": {
    "name": "ipython",
    "version": 3
   },
   "file_extension": ".py",
   "mimetype": "text/x-python",
   "name": "python",
   "nbconvert_exporter": "python",
   "pygments_lexer": "ipython3",
   "version": "3.11.5"
  },
  "toc": {
   "base_numbering": 1,
   "nav_menu": {},
   "number_sections": true,
   "sideBar": true,
   "skip_h1_title": false,
   "title_cell": "Table of Contents",
   "title_sidebar": "Contents",
   "toc_cell": false,
   "toc_position": {},
   "toc_section_display": true,
   "toc_window_display": false
  },
  "vscode": {
   "interpreter": {
    "hash": "31f2aee4e71d21fbe5cf8b01ff0e069b9275f58929596ceb00d14d90e3e16cd6"
   }
  }
 },
 "nbformat": 4,
 "nbformat_minor": 5
}
