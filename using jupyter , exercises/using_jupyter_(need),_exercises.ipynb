{
 "cells": [
  {
   "cell_type": "markdown",
   "id": "123456",
   "metadata": {},
   "source": [
    "<div style=\"text-align:left;font-size:2em\"><span style=\"font-weight:bolder;font-size:1.25em\">SP2273 | Learning Portfolio</span><br><br><span style=\"font-weight:bold;color:darkred\">Using Jupyter (Need), Exercises</span></div>"
   ]
  },
  {
   "cell_type": "markdown",
   "id": "cebf8903",
   "metadata": {},
   "source": [
    "## Quadratic Equations"
   ]
  },
  {
   "cell_type": "markdown",
   "id": "48716ea0",
   "metadata": {},
   "source": [
    "### Introduction"
   ]
  },
  {
   "cell_type": "markdown",
   "id": "9e6b1f0a",
   "metadata": {},
   "source": [
    "![](https://upload.wikimedia.org/wikipedia/commons/thumb/f/f8/Polynomialdeg2.svg/450px-Polynomialdeg2.svg.png)\n",
    "(*Image from the [Wikipedia page on Quadratic equations](https://en.wikipedia.org/wiki/Quadratic_equation)*)\n",
    "\n",
    "The general form of a quadratic equation is:\n",
    "$$\n",
    "ax^2+bx+c=0\n",
    "$$\n"
   ]
  },
  {
   "cell_type": "markdown",
   "id": "ef183f72",
   "metadata": {},
   "source": [
    "### Solutions"
   ]
  },
  {
   "cell_type": "markdown",
   "id": "bf71b07b",
   "metadata": {},
   "source": [
    "\n",
    "Provided $a \\ne 0$, we can use an elementary algebraic method called [completing the square](https://en.wikipedia.org/wiki/Completing_the_square) to show that the quadratic equation has the following solution:\n",
    "$$\n",
    "x = \\dfrac{-b \\pm \\sqrt{b^2-4ac}}{2a}\n",
    "$$\n"
   ]
  },
  {
   "cell_type": "markdown",
   "id": "6b88eec9",
   "metadata": {},
   "source": [
    "### Discriminant"
   ]
  },
  {
   "cell_type": "markdown",
   "id": "aad28a6e",
   "metadata": {},
   "source": [
    "The quantity $\\Delta=b^2-4ac$ is called the **discriminant** of the equation and decides the nature of its solutions. The table shows the various possibilities:\n",
    "|**Discriminant**|**Roots**|\n",
    "|----------------|---------|\n",
    "|$$\\Delta=b^2-4ac=0$$ |A single solution of **-b/(2a)**|\n",
    "|$$\\Delta=b^2-4ac \\gt 0$$ |Two distinct solutions|\n",
    "|$$\\Delta=b^2-4ac \\lt 0$$ |No real solutions; both are complex|\n"
   ]
  },
  {
   "cell_type": "markdown",
   "id": "11a133de",
   "metadata": {},
   "source": [
    "1. What is a Git **repository**\n",
    "    - A git repository acts like a google drive, a kind of cloud where our local files on our computer can be uploaded to and synced for access by others as well. \n",
    "1. Git keeps track of **changes** in the files of our repository\n",
    "1. What is a **commit**\n",
    "    - It tells the repository exactly which changes to keep track of \n",
    "1. What is a **push**\n",
    "    - A push will ensure changes made on our local device are uploaded and synced to the changes \n",
    "1. What is a **pull*\n",
    "    - A pull will sync changes made online on the github cloud to the files on our local device\n",
    "1. What is the difference between **GitHub** and **GitHub** desktop?\n",
    "    - Github functions as an online repository while GitHub desktop deals with files stored on our local device"
   ]
  },
  {
   "cell_type": "markdown",
   "id": "9bbf7822",
   "metadata": {},
   "source": []
  }
 ],
 "metadata": {
  "kernelspec": {
   "display_name": "Python 3 (ipykernel)",
   "language": "python",
   "name": "python3"
  },
  "language_info": {
   "codemirror_mode": {
    "name": "ipython",
    "version": 3
   },
   "file_extension": ".py",
   "mimetype": "text/x-python",
   "name": "python",
   "nbconvert_exporter": "python",
   "pygments_lexer": "ipython3",
   "version": "3.11.5"
  },
  "toc": {
   "base_numbering": 1,
   "nav_menu": {},
   "number_sections": true,
   "sideBar": true,
   "skip_h1_title": false,
   "title_cell": "Table of Contents",
   "title_sidebar": "Contents",
   "toc_cell": false,
   "toc_position": {},
   "toc_section_display": true,
   "toc_window_display": false
  },
  "vscode": {
   "interpreter": {
    "hash": "31f2aee4e71d21fbe5cf8b01ff0e069b9275f58929596ceb00d14d90e3e16cd6"
   }
  }
 },
 "nbformat": 4,
 "nbformat_minor": 5
}
