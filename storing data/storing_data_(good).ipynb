{
 "cells": [
  {
   "attachments": {},
   "cell_type": "markdown",
   "id": "123456",
   "metadata": {},
   "source": [
    "<div style=\"text-align:left;font-size:2em\"><span style=\"font-weight:bolder;font-size:1.25em\">SP2273 | Learning Portfolio</span><br><br><span style=\"font-weight:bold;color:darkred\">Storing Data (Good)</span></div>"
   ]
  },
  {
   "cell_type": "code",
   "execution_count": 2,
   "id": "bb9156a4-6de7-4a03-a380-177afe4743f0",
   "metadata": {},
   "outputs": [],
   "source": [
    "import numpy as np"
   ]
  },
  {
   "attachments": {},
   "cell_type": "markdown",
   "id": "9b3509b5",
   "metadata": {},
   "source": [
    "# What to expect in this chapter"
   ]
  },
  {
   "attachments": {},
   "cell_type": "markdown",
   "id": "98dbc438",
   "metadata": {},
   "source": [
    "# Subsetting: Indexing and Slicing"
   ]
  },
  {
   "cell_type": "markdown",
   "id": "a8a4c966-8e10-4fd0-bca4-4decca1a48f1",
   "metadata": {},
   "source": [
    "- Subsetting means to select\n",
    "- Indexing refers to selecting one element\n",
    "- Slicing refers to selecting a range of elements"
   ]
  },
  {
   "attachments": {},
   "cell_type": "markdown",
   "id": "9efc0bfc",
   "metadata": {},
   "source": [
    "##  Lists & Arrays in 1D | Subsetting & Indexing"
   ]
  },
  {
   "cell_type": "code",
   "execution_count": 4,
   "id": "e11c23fe-116d-495f-890b-07a154c40bd6",
   "metadata": {},
   "outputs": [],
   "source": [
    "py_list=[\"a1\", \"b2\", \"c3\", \"d4\", \"e5\",\n",
    "         \"f6\", \"g7\", \"h8\", \"i9\", \"j10\"]\n",
    "np_array=np.array(py_list)\n",
    "\n",
    "# Pick one\n",
    "x = py_list  # OR\n",
    "x = np_array"
   ]
  },
  {
   "cell_type": "code",
   "execution_count": 8,
   "id": "533535c7-1133-4771-85f8-c66e89d6b2bc",
   "metadata": {},
   "outputs": [
    {
     "data": {
      "text/plain": [
       "'a1'"
      ]
     },
     "execution_count": 8,
     "metadata": {},
     "output_type": "execute_result"
    }
   ],
   "source": [
    "py_list[0]"
   ]
  },
  {
   "cell_type": "code",
   "execution_count": 9,
   "id": "c4ed9c11-d984-4de1-8062-65a99dc345b6",
   "metadata": {},
   "outputs": [
    {
     "data": {
      "text/plain": [
       "'j10'"
      ]
     },
     "execution_count": 9,
     "metadata": {},
     "output_type": "execute_result"
    }
   ],
   "source": [
    "py_list[-1]"
   ]
  },
  {
   "cell_type": "code",
   "execution_count": 11,
   "id": "6b40adc0-cd7d-43ef-9f28-faa1ed2a787b",
   "metadata": {},
   "outputs": [
    {
     "data": {
      "text/plain": [
       "['b2', 'c3', 'd4', 'e5', 'f6']"
      ]
     },
     "execution_count": 11,
     "metadata": {},
     "output_type": "execute_result"
    }
   ],
   "source": [
    "py_list[1:6]  # get 6-1=5 elements"
   ]
  },
  {
   "cell_type": "code",
   "execution_count": 12,
   "id": "c978a074-4003-4601-9aca-653f0326a2f8",
   "metadata": {},
   "outputs": [
    {
     "data": {
      "text/plain": [
       "['b2', 'd4', 'f6']"
      ]
     },
     "execution_count": 12,
     "metadata": {},
     "output_type": "execute_result"
    }
   ],
   "source": [
    "py_list[1:6:2] #same as previous cell but in steps of 2"
   ]
  },
  {
   "cell_type": "markdown",
   "id": "e60f7e09-28da-44aa-ad2e-bead666c3283",
   "metadata": {},
   "source": [
    "- This applies to both lists and arrays\n",
    "- Ref sp2273 website for syntax"
   ]
  },
  {
   "attachments": {},
   "cell_type": "markdown",
   "id": "f3d4db62",
   "metadata": {},
   "source": [
    "##  Arrays only | Subsetting by masking"
   ]
  },
  {
   "cell_type": "code",
   "execution_count": 5,
   "id": "5e3d2b71-12e8-4b98-af66-9ead5c0b6b68",
   "metadata": {},
   "outputs": [
    {
     "data": {
      "text/plain": [
       "array([False, False, False,  True,  True,  True,  True,  True,  True,\n",
       "        True])"
      ]
     },
     "execution_count": 5,
     "metadata": {},
     "output_type": "execute_result"
    }
   ],
   "source": [
    "np_array = np.array([1, 2, 3, 4, 5, 6, 7, 8, 9, 10])\n",
    "my_mask = np_array > 3\n",
    "my_mask"
   ]
  },
  {
   "cell_type": "markdown",
   "id": "878a2335-bfea-436e-8028-864fdf0ef6f7",
   "metadata": {},
   "source": [
    "The answer to the question is in the form of a ‘Yes’/‘No’ or True/False format. We can use this True/False format to ask NumPy to show us only those that are True by"
   ]
  },
  {
   "cell_type": "code",
   "execution_count": 13,
   "id": "068b9d13-9ba4-48dc-a3c2-40b990125627",
   "metadata": {},
   "outputs": [
    {
     "data": {
      "text/plain": [
       "array([ 4,  5,  6,  7,  8,  9, 10])"
      ]
     },
     "execution_count": 13,
     "metadata": {},
     "output_type": "execute_result"
    }
   ],
   "source": [
    "np_array[my_mask]  #the mask sort of \"covers\" the options that are false and just shows us those that are true"
   ]
  },
  {
   "cell_type": "markdown",
   "id": "d39da455-9987-46f5-8b89-5ddaff75e6e3",
   "metadata": {},
   "source": [
    "**Subsetting my masking only works with numpy arrays**"
   ]
  },
  {
   "cell_type": "markdown",
   "id": "86df3043-4a63-4c15-ab8d-245b7e76cefe",
   "metadata": {},
   "source": [
    "Instead of creating another variable, we can also do all of this succinctly as:"
   ]
  },
  {
   "cell_type": "code",
   "execution_count": 14,
   "id": "eeddafc2-3bb0-49e9-bd07-e2b2e88739ad",
   "metadata": {},
   "outputs": [
    {
     "data": {
      "text/plain": [
       "array([ 4,  5,  6,  7,  8,  9, 10])"
      ]
     },
     "execution_count": 14,
     "metadata": {},
     "output_type": "execute_result"
    }
   ],
   "source": [
    "np_array[np_array > 3]  #instead of creating a mask we can just do it like this"
   ]
  },
  {
   "cell_type": "markdown",
   "id": "91a4881d-07f4-4526-819f-61d69c7490f7",
   "metadata": {},
   "source": [
    "**Example 1**"
   ]
  },
  {
   "cell_type": "markdown",
   "id": "a0de542a-d4eb-4898-b230-b8a64b0a7dc5",
   "metadata": {},
   "source": [
    "We can invert our mask by using the ~.\n",
    "~ is called the Bitwise Not operator."
   ]
  },
  {
   "cell_type": "code",
   "execution_count": 16,
   "id": "f783c852-cea0-4ffe-81ff-ab22d545944d",
   "metadata": {},
   "outputs": [
    {
     "data": {
      "text/plain": [
       "array([1, 2, 3])"
      ]
     },
     "execution_count": 16,
     "metadata": {},
     "output_type": "execute_result"
    }
   ],
   "source": [
    "np_array[~(np_array > 3)]                 # '~' means 'NOT'"
   ]
  },
  {
   "cell_type": "markdown",
   "id": "7d2d9f05-b397-438b-a64a-ecd9666b0381",
   "metadata": {},
   "source": [
    "**Example 2**"
   ]
  },
  {
   "cell_type": "markdown",
   "id": "801cb453-6f31-49f0-b5d8-7151237fb24e",
   "metadata": {},
   "source": [
    "We can combine one mask AND another mask.\n",
    "(AND will show something only if both masks are true.)"
   ]
  },
  {
   "cell_type": "code",
   "execution_count": 18,
   "id": "3f71f5e3-a973-42d5-a6f8-c7a0ccc21e0e",
   "metadata": {},
   "outputs": [
    {
     "data": {
      "text/plain": [
       "array([4, 5, 6, 7])"
      ]
     },
     "execution_count": 18,
     "metadata": {},
     "output_type": "execute_result"
    }
   ],
   "source": [
    "np_array[(np_array > 3) & (np_array < 8)] # '&' means 'AND'"
   ]
  },
  {
   "cell_type": "markdown",
   "id": "dfab9058-1981-4f9f-8925-8288b5043481",
   "metadata": {},
   "source": [
    "**Example 3**"
   ]
  },
  {
   "cell_type": "markdown",
   "id": "9bd8998c-005f-4437-845b-299c3cbfa55a",
   "metadata": {},
   "source": [
    "We can combine one mask OR another mask.\n",
    "(OR will show something if either mask is true.)"
   ]
  },
  {
   "cell_type": "code",
   "execution_count": 20,
   "id": "f0271f1b-3394-42fe-b486-b17b91870947",
   "metadata": {},
   "outputs": [
    {
     "data": {
      "text/plain": [
       "array([ 1,  2,  9, 10])"
      ]
     },
     "execution_count": 20,
     "metadata": {},
     "output_type": "execute_result"
    }
   ],
   "source": [
    "np_array[(np_array < 3) | (np_array > 8)] # '|' means 'OR'"
   ]
  },
  {
   "cell_type": "markdown",
   "id": "9d18a015-5548-4d01-8eae-7039a2205692",
   "metadata": {},
   "source": [
    "- Always use the Bitwise NOT(~), Bitwise OR(|) and Bitwise AND(&) when combining masks with NumPy.\n",
    "- \n",
    "Always use brackets to clarify what you are asking the mask to do.\n",
    "\n"
   ]
  },
  {
   "attachments": {},
   "cell_type": "markdown",
   "id": "4882ee6d",
   "metadata": {},
   "source": [
    "##  Lists & Arrays in 2D | Indexing & Slicing"
   ]
  },
  {
   "cell_type": "code",
   "execution_count": 23,
   "id": "24b3187b-0728-45ff-97ea-3c345a7fbfa4",
   "metadata": {},
   "outputs": [],
   "source": [
    "py_list_2d = [[1, \"A\"], [2, \"B\"], [3, \"C\"], [4, \"D\"],\n",
    "              [5, \"E\"], [6, \"F\"], [7, \"G\"], [8, \"H\"],\n",
    "              [9, \"I\"], [10, \"J\"]]\n",
    "\n",
    "np_array_2d = np.array(py_list_2d)"
   ]
  },
  {
   "cell_type": "code",
   "execution_count": 24,
   "id": "c6eef060-1aa2-4787-ab4c-ac52dfda1d4d",
   "metadata": {},
   "outputs": [
    {
     "data": {
      "text/plain": [
       "[[1, 'A'],\n",
       " [2, 'B'],\n",
       " [3, 'C'],\n",
       " [4, 'D'],\n",
       " [5, 'E'],\n",
       " [6, 'F'],\n",
       " [7, 'G'],\n",
       " [8, 'H'],\n",
       " [9, 'I'],\n",
       " [10, 'J']]"
      ]
     },
     "execution_count": 24,
     "metadata": {},
     "output_type": "execute_result"
    }
   ],
   "source": [
    "py_list_2d"
   ]
  },
  {
   "cell_type": "code",
   "execution_count": 25,
   "id": "82353769-ead1-4265-9320-a970bf7a3210",
   "metadata": {},
   "outputs": [
    {
     "data": {
      "text/plain": [
       "array([['1', 'A'],\n",
       "       ['2', 'B'],\n",
       "       ['3', 'C'],\n",
       "       ['4', 'D'],\n",
       "       ['5', 'E'],\n",
       "       ['6', 'F'],\n",
       "       ['7', 'G'],\n",
       "       ['8', 'H'],\n",
       "       ['9', 'I'],\n",
       "       ['10', 'J']], dtype='<U11')"
      ]
     },
     "execution_count": 25,
     "metadata": {},
     "output_type": "execute_result"
    }
   ],
   "source": [
    "np_array_2d"
   ]
  },
  {
   "cell_type": "markdown",
   "id": "7d3f70a2-0879-4d07-b14c-0a9d0c88e085",
   "metadata": {},
   "source": [
    "**Example 1**"
   ]
  },
  {
   "cell_type": "markdown",
   "id": "3f34f62d-0c78-4a49-b575-5bb150f83fb0",
   "metadata": {},
   "source": [
    "What is at position 4 (index 3)?"
   ]
  },
  {
   "cell_type": "code",
   "execution_count": 27,
   "id": "bbfe9afd-f63e-46d7-a31c-5c1f701f89f6",
   "metadata": {},
   "outputs": [
    {
     "data": {
      "text/plain": [
       "[4, 'D']"
      ]
     },
     "execution_count": 27,
     "metadata": {},
     "output_type": "execute_result"
    }
   ],
   "source": [
    "py_list_2d[3]"
   ]
  },
  {
   "cell_type": "code",
   "execution_count": 28,
   "id": "b95bc442-5880-4aca-9263-be3c7a7ce76c",
   "metadata": {},
   "outputs": [
    {
     "data": {
      "text/plain": [
       "array(['4', 'D'], dtype='<U11')"
      ]
     },
     "execution_count": 28,
     "metadata": {},
     "output_type": "execute_result"
    }
   ],
   "source": [
    "np_array_2d[3]"
   ]
  },
  {
   "cell_type": "markdown",
   "id": "d673c29d-0ad7-4f43-86a4-4b6a08cc5601",
   "metadata": {},
   "source": [
    "**Example 2**"
   ]
  },
  {
   "cell_type": "markdown",
   "id": "9bd3a0d8-f654-4cba-b032-78718a46a1e8",
   "metadata": {},
   "source": [
    "What is the first element at position 4 (index 3)?"
   ]
  },
  {
   "cell_type": "code",
   "execution_count": 29,
   "id": "11fd5bc0-2894-42ce-a0b6-9ad10a1ab0e8",
   "metadata": {},
   "outputs": [
    {
     "data": {
      "text/plain": [
       "4"
      ]
     },
     "execution_count": 29,
     "metadata": {},
     "output_type": "execute_result"
    }
   ],
   "source": [
    "py_list_2d[3][0]"
   ]
  },
  {
   "cell_type": "code",
   "execution_count": 30,
   "id": "ee48a6f6-340e-4bb7-b1ef-bb040994d31e",
   "metadata": {},
   "outputs": [
    {
     "data": {
      "text/plain": [
       "'4'"
      ]
     },
     "execution_count": 30,
     "metadata": {},
     "output_type": "execute_result"
    }
   ],
   "source": [
    "np_array_2d[3, 0]"
   ]
  },
  {
   "cell_type": "markdown",
   "id": "77a2d989-6e5a-4bd9-b900-2bb795dbe00a",
   "metadata": {},
   "source": [
    "**Example 3**"
   ]
  },
  {
   "cell_type": "markdown",
   "id": "b662ef24-c24a-4d50-91cb-e40c9953e787",
   "metadata": {},
   "source": [
    "What are the first 3 elements?"
   ]
  },
  {
   "cell_type": "code",
   "execution_count": 31,
   "id": "9ca92cdb-28c2-4345-b09f-d3beefd9b2de",
   "metadata": {},
   "outputs": [
    {
     "data": {
      "text/plain": [
       "[[1, 'A'], [2, 'B'], [3, 'C']]"
      ]
     },
     "execution_count": 31,
     "metadata": {},
     "output_type": "execute_result"
    }
   ],
   "source": [
    "py_list_2d[:3]"
   ]
  },
  {
   "cell_type": "code",
   "execution_count": 32,
   "id": "3d9f6060-bed4-4f7e-ad5a-8c9ebe407b30",
   "metadata": {},
   "outputs": [
    {
     "data": {
      "text/plain": [
       "array([['1', 'A'],\n",
       "       ['2', 'B'],\n",
       "       ['3', 'C']], dtype='<U11')"
      ]
     },
     "execution_count": 32,
     "metadata": {},
     "output_type": "execute_result"
    }
   ],
   "source": [
    "np_array_2d[:3]"
   ]
  },
  {
   "cell_type": "markdown",
   "id": "b90e16b7-e863-4e54-adf6-74725bd350f3",
   "metadata": {},
   "source": [
    "**Example 4**"
   ]
  },
  {
   "cell_type": "code",
   "execution_count": 40,
   "id": "900cc568-04a5-4c8b-ab97-52eae8e43944",
   "metadata": {},
   "outputs": [
    {
     "data": {
      "text/plain": [
       "[1, 'A']"
      ]
     },
     "execution_count": 40,
     "metadata": {},
     "output_type": "execute_result"
    }
   ],
   "source": [
    "py_list_2d[:3][0]  #Takes the 3 sets of elements first then takes 0"
   ]
  },
  {
   "cell_type": "code",
   "execution_count": 41,
   "id": "dcac44ae-81bd-42d2-97c1-5faa0f812491",
   "metadata": {},
   "outputs": [
    {
     "data": {
      "text/plain": [
       "array(['1', '2', '3'], dtype='<U11')"
      ]
     },
     "execution_count": 41,
     "metadata": {},
     "output_type": "execute_result"
    }
   ],
   "source": [
    "np_array_2d[:3, 0]  #Takes the first 0 off all 3 sets"
   ]
  },
  {
   "cell_type": "markdown",
   "id": "341b7f44-3d5c-43d7-b4d0-51b4b1a63398",
   "metadata": {},
   "source": [
    "You might think that this will yield the first elements (i.e., [1, 2, 3]) of all the sub-lists up to index 2.\n",
    "No! Instead, it gives the first of the list you get from py_list_2d[:3]. Also numpy array works very differently."
   ]
  },
  {
   "cell_type": "markdown",
   "id": "2caf7857-8291-4f4e-be4b-3b8a090eb536",
   "metadata": {},
   "source": [
    "**Example 5** "
   ]
  },
  {
   "cell_type": "code",
   "execution_count": 37,
   "id": "4882a986-a82b-413e-9b4a-1ccb3d522ac4",
   "metadata": {},
   "outputs": [
    {
     "data": {
      "text/plain": [
       "[4, 'D']"
      ]
     },
     "execution_count": 37,
     "metadata": {},
     "output_type": "execute_result"
    }
   ],
   "source": [
    "py_list_2d[3:6][0]"
   ]
  },
  {
   "cell_type": "code",
   "execution_count": 38,
   "id": "0f8fd6cd-a3d4-4ad6-8a9a-f9c3d5a5ff73",
   "metadata": {},
   "outputs": [
    {
     "data": {
      "text/plain": [
       "array(['4', '5', '6'], dtype='<U11')"
      ]
     },
     "execution_count": 38,
     "metadata": {},
     "output_type": "execute_result"
    }
   ],
   "source": [
    "np_array_2d[3:6, 0]"
   ]
  },
  {
   "cell_type": "code",
   "execution_count": 39,
   "id": "9703258b-8baf-4a61-b9b0-1ee4915574a3",
   "metadata": {},
   "outputs": [
    {
     "data": {
      "text/plain": [
       "array(['1', '2', '3', '4', '5', '6', '7', '8', '9', '10'], dtype='<U11')"
      ]
     },
     "execution_count": 39,
     "metadata": {},
     "output_type": "execute_result"
    }
   ],
   "source": [
    "np_array_2d[:, 0]"
   ]
  },
  {
   "cell_type": "markdown",
   "id": "86692406-6746-44d5-8b6c-ad1de31b5d68",
   "metadata": {},
   "source": [
    "If you want ‘everything’ you just use :"
   ]
  },
  {
   "attachments": {},
   "cell_type": "markdown",
   "id": "bcca775f",
   "metadata": {},
   "source": [
    "##  Growing lists"
   ]
  },
  {
   "cell_type": "markdown",
   "id": "47456730-c286-4cbb-8719-3dbf967565a8",
   "metadata": {},
   "source": [
    "**Example 1**"
   ]
  },
  {
   "cell_type": "markdown",
   "id": "ab099488-2ba8-4807-ad04-632ee5f0d590",
   "metadata": {},
   "source": [
    "Creating a larger list from a smaller one"
   ]
  },
  {
   "cell_type": "code",
   "execution_count": 48,
   "id": "34c37288-8e37-47ad-8093-02f5a7060b6d",
   "metadata": {},
   "outputs": [
    {
     "data": {
      "text/plain": [
       "[1, 2, 1, 2, 1, 2, 1, 2, 1, 2]"
      ]
     },
     "execution_count": 48,
     "metadata": {},
     "output_type": "execute_result"
    }
   ],
   "source": [
    "x=[1, 2]*5   #creates copies of the list\n",
    "x"
   ]
  },
  {
   "cell_type": "markdown",
   "id": "c12108c5-9e70-4367-80c4-6dd36d588afc",
   "metadata": {},
   "source": [
    "**Example 2**"
   ]
  },
  {
   "cell_type": "markdown",
   "id": "63f7fe71-e57a-408f-96ac-2d32db2adbaa",
   "metadata": {},
   "source": [
    "Three ways to grow a list by appending one element at a time."
   ]
  },
  {
   "cell_type": "code",
   "execution_count": 45,
   "id": "dc1e1299-a96a-44da-a413-d02283467b99",
   "metadata": {},
   "outputs": [
    {
     "data": {
      "text/plain": [
       "[1, 2, 3, 4]"
      ]
     },
     "execution_count": 45,
     "metadata": {},
     "output_type": "execute_result"
    }
   ],
   "source": [
    "x=[1]\n",
    "x= x + [2]\n",
    "x= x + [3]\n",
    "x= x + [4]\n",
    "x"
   ]
  },
  {
   "cell_type": "code",
   "execution_count": 46,
   "id": "6445905f-3549-4f3f-b6dd-d488cbd3ff12",
   "metadata": {},
   "outputs": [
    {
     "data": {
      "text/plain": [
       "[1, 2, 3, 4]"
      ]
     },
     "execution_count": 46,
     "metadata": {},
     "output_type": "execute_result"
    }
   ],
   "source": [
    "x=[1]\n",
    "x+= [2]\n",
    "x+= [3]\n",
    "x+= [4]\n",
    "x"
   ]
  },
  {
   "cell_type": "code",
   "execution_count": 49,
   "id": "4542333d-c280-42d3-a722-80190555a78f",
   "metadata": {},
   "outputs": [
    {
     "data": {
      "text/plain": [
       "[1, 2, 3, 4]"
      ]
     },
     "execution_count": 49,
     "metadata": {},
     "output_type": "execute_result"
    }
   ],
   "source": [
    "x=[1]              #append computes faster than the rest\n",
    "x.append(2)\n",
    "x.append(3)\n",
    "x.append(4)\n",
    "x"
   ]
  },
  {
   "cell_type": "markdown",
   "id": "48acda67-b20a-4547-941d-a94a8f8c87f2",
   "metadata": {},
   "source": [
    "**Example 3**"
   ]
  },
  {
   "cell_type": "markdown",
   "id": "77eec959-7094-4bef-b672-8aa79174e4f7",
   "metadata": {},
   "source": [
    "Here are three ways of incorporating multiple elements.\n",
    "Notice the difference between the effects of extend() and append()"
   ]
  },
  {
   "cell_type": "code",
   "execution_count": 50,
   "id": "968933dd-3ff8-4d29-8074-99e17e6f09ca",
   "metadata": {},
   "outputs": [
    {
     "data": {
      "text/plain": [
       "[1, 2, 3, 4, 5, 6]"
      ]
     },
     "execution_count": 50,
     "metadata": {},
     "output_type": "execute_result"
    }
   ],
   "source": [
    "x = [1, 2, 3]\n",
    "x += [4, 5, 6]\n",
    "x"
   ]
  },
  {
   "cell_type": "code",
   "execution_count": 51,
   "id": "d07b6a75-2ce7-4803-ae19-c0551517be12",
   "metadata": {},
   "outputs": [
    {
     "data": {
      "text/plain": [
       "[1, 2, 3, 4, 5, 6]"
      ]
     },
     "execution_count": 51,
     "metadata": {},
     "output_type": "execute_result"
    }
   ],
   "source": [
    "x=[1, 2, 3]\n",
    "x.extend([4, 5, 6])\n",
    "x"
   ]
  },
  {
   "cell_type": "code",
   "execution_count": 52,
   "id": "aa6ae638-9c56-4479-876a-72a3cd3f9795",
   "metadata": {},
   "outputs": [
    {
     "data": {
      "text/plain": [
       "[1, 2, 3, [4, 5, 6]]"
      ]
     },
     "execution_count": 52,
     "metadata": {},
     "output_type": "execute_result"
    }
   ],
   "source": [
    "x=[1, 2, 3]\n",
    "x.append([4, 5, 6])\n",
    "x"
   ]
  },
  {
   "attachments": {},
   "cell_type": "markdown",
   "id": "b97684c8",
   "metadata": {},
   "source": [
    "# Some loose ends"
   ]
  },
  {
   "attachments": {},
   "cell_type": "markdown",
   "id": "28e2d2fd",
   "metadata": {},
   "source": [
    "##  Tuples"
   ]
  },
  {
   "cell_type": "markdown",
   "id": "1da70e02-e7cd-4a56-9ec4-8a8f41282c58",
   "metadata": {},
   "source": [
    "Tuples are similar to lists, except they use ( ) and cannot be changed after creation (i.e., they are immutable)"
   ]
  },
  {
   "cell_type": "code",
   "execution_count": 53,
   "id": "30d9a464-6798-4673-a3ff-3ad12c1ee693",
   "metadata": {},
   "outputs": [],
   "source": [
    "a=(1, 2, 3)     # Define tuple"
   ]
  },
  {
   "cell_type": "code",
   "execution_count": 54,
   "id": "3b90ff3a-b5c7-43b8-931b-c35a51017415",
   "metadata": {},
   "outputs": [
    {
     "name": "stdout",
     "output_type": "stream",
     "text": [
      "1\n"
     ]
    }
   ],
   "source": [
    "print(a[0])    # Access data"
   ]
  },
  {
   "cell_type": "code",
   "execution_count": 55,
   "id": "720b344e-342b-45e6-a59f-619f959df80f",
   "metadata": {},
   "outputs": [
    {
     "ename": "TypeError",
     "evalue": "'tuple' object does not support item assignment",
     "output_type": "error",
     "traceback": [
      "\u001b[1;31m---------------------------------------------------------------------------\u001b[0m",
      "\u001b[1;31mTypeError\u001b[0m                                 Traceback (most recent call last)",
      "Cell \u001b[1;32mIn[55], line 2\u001b[0m\n\u001b[0;32m      1\u001b[0m \u001b[38;5;66;03m# The following will NOT work\u001b[39;00m\n\u001b[1;32m----> 2\u001b[0m \u001b[43ma\u001b[49m\u001b[43m[\u001b[49m\u001b[38;5;241;43m0\u001b[39;49m\u001b[43m]\u001b[49m\u001b[38;5;241m=\u001b[39m\u001b[38;5;241m-\u001b[39m\u001b[38;5;241m1\u001b[39m\n\u001b[0;32m      3\u001b[0m a[\u001b[38;5;241m0\u001b[39m]\u001b[38;5;241m+\u001b[39m\u001b[38;5;241m=\u001b[39m [\u001b[38;5;241m10\u001b[39m]\n",
      "\u001b[1;31mTypeError\u001b[0m: 'tuple' object does not support item assignment"
     ]
    }
   ],
   "source": [
    "# The following will NOT work\n",
    "a[0]=-1\n",
    "a[0]+= [10]"
   ]
  },
  {
   "attachments": {},
   "cell_type": "markdown",
   "id": "9e0fce9b",
   "metadata": {},
   "source": [
    "##  Be VERY careful when copying"
   ]
  },
  {
   "cell_type": "markdown",
   "id": "72199d1a-23ff-4680-8178-ba5a47796d8d",
   "metadata": {},
   "source": [
    "Variables in Python have subtle features that might make your life miserable if you are not careful. You should be particularly mindful when making copies of lists and arrays.\n",
    "\n",
    "For example, if you want to copy a list, you might be tempted to do the following; PLEASE DON’T!"
   ]
  },
  {
   "cell_type": "code",
   "execution_count": 58,
   "id": "c9be665d-0f6f-4c89-8611-9defe6b89bfc",
   "metadata": {},
   "outputs": [],
   "source": [
    "x=[1, 2, 3]\n",
    "y=x           # DON'T do this!\n",
    "z=x           # DON'T do this!"
   ]
  },
  {
   "cell_type": "code",
   "execution_count": 59,
   "id": "a1a160aa-dd57-4e9f-8dd2-7f22aac3f073",
   "metadata": {},
   "outputs": [],
   "source": [
    "x=[1, 2, 3]\n",
    "y=x.copy()\n",
    "z=x.copy()"
   ]
  }
 ],
 "metadata": {
  "kernelspec": {
   "display_name": "Python 3 (ipykernel)",
   "language": "python",
   "name": "python3"
  },
  "language_info": {
   "codemirror_mode": {
    "name": "ipython",
    "version": 3
   },
   "file_extension": ".py",
   "mimetype": "text/x-python",
   "name": "python",
   "nbconvert_exporter": "python",
   "pygments_lexer": "ipython3",
   "version": "3.11.5"
  },
  "toc": {
   "base_numbering": 1,
   "nav_menu": {},
   "number_sections": true,
   "sideBar": true,
   "skip_h1_title": false,
   "title_cell": "Table of Contents",
   "title_sidebar": "Contents",
   "toc_cell": false,
   "toc_position": {},
   "toc_section_display": true,
   "toc_window_display": false
  },
  "vscode": {
   "interpreter": {
    "hash": "31f2aee4e71d21fbe5cf8b01ff0e069b9275f58929596ceb00d14d90e3e16cd6"
   }
  }
 },
 "nbformat": 4,
 "nbformat_minor": 5
}
