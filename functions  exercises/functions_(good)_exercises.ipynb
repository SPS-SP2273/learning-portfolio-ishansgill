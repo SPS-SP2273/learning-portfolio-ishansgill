{
 "cells": [
  {
   "attachments": {},
   "cell_type": "markdown",
   "id": "123456",
   "metadata": {},
   "source": [
    "<div style=\"text-align:left;font-size:2em\"><span style=\"font-weight:bolder;font-size:1.25em\">SP2273 | Learning Portfolio</span><br><br><span style=\"font-weight:bold;color:darkred\">Functions (Good) Exercises</span></div>"
   ]
  },
  {
   "cell_type": "markdown",
   "id": "6bfd5557-958c-4549-b488-6a539fa46e25",
   "metadata": {},
   "source": [
    "**Exercise 1**"
   ]
  },
  {
   "cell_type": "code",
   "execution_count": 1,
   "id": "a2f1f3f3-d2b2-4f0e-88cc-e20c5ac5cf9a",
   "metadata": {},
   "outputs": [
    {
     "name": "stdout",
     "output_type": "stream",
     "text": [
      "25 Celsius is 77.0 Fahrenheit.\n",
      "25 Celsius is 298.15 Kelvin.\n"
     ]
    }
   ],
   "source": [
    "def convert_celsius(temperature_celsius, target_scale='Fahrenheit'):\n",
    "    if target_scale == 'Fahrenheit':\n",
    "        temperature_fahrenheit = (temperature_celsius * 9/5) + 32\n",
    "        return temperature_fahrenheit\n",
    "    elif target_scale == 'Kelvin':\n",
    "        temperature_kelvin = temperature_celsius + 273.15\n",
    "        return temperature_kelvin\n",
    "    else:\n",
    "        return \"Invalid target_scale. Please choose 'Fahrenheit' or 'Kelvin'.\"\n",
    "\n",
    "temperature_in_celsius = 25  # Replace with the actual temperature in Celsius\n",
    "target_scale_fahrenheit = convert_celsius(temperature_in_celsius)\n",
    "target_scale_kelvin = convert_celsius(temperature_in_celsius, 'Kelvin')\n",
    "\n",
    "print(f\"{temperature_in_celsius} Celsius is {target_scale_fahrenheit} Fahrenheit.\")\n",
    "print(f\"{temperature_in_celsius} Celsius is {target_scale_kelvin} Kelvin.\")\n"
   ]
  },
  {
   "cell_type": "markdown",
   "id": "8cdb048f-4fc8-4474-b4d1-1e74df4bb796",
   "metadata": {},
   "source": [
    "**Exercise 2**"
   ]
  },
  {
   "cell_type": "code",
   "execution_count": 6,
   "id": "da36a662-8e3f-4e45-9c95-04e2159f11a7",
   "metadata": {},
   "outputs": [
    {
     "name": "stdout",
     "output_type": "stream",
     "text": [
      "77 Fahrenheit is 25.0 Celsius.\n",
      "77 Fahrenheit is 298.15 Kelvin.\n"
     ]
    }
   ],
   "source": [
    "def convert_fahrenheit(temperature_fahrenheit, target_scale='Celsius'):\n",
    "    if target_scale == 'Celsius':\n",
    "        temperature_celsius = (temperature_fahrenheit - 32) * 5/9\n",
    "        return temperature_celsius\n",
    "    elif target_scale == 'Kelvin':\n",
    "        temperature_kelvin = (temperature_fahrenheit - 32) * 5/9 + 273.15\n",
    "        return temperature_kelvin\n",
    "    else:\n",
    "        return \"Invalid target_scale. Please choose 'Celsius' or 'Kelvin'\"\n",
    "        \n",
    "temperature_in_fahrenheit = 77  # Replace with the actual temperature in Fahrenheit\n",
    "target_scale_celsius = convert_fahrenheit(temperature_in_fahrenheit)\n",
    "target_scale_kelvin = convert_fahrenheit(temperature_in_fahrenheit, 'Kelvin')\n",
    "\n",
    "print(f\"{temperature_in_fahrenheit} Fahrenheit is {target_scale_celsius} Celsius.\")\n",
    "print(f\"{temperature_in_fahrenheit} Fahrenheit is {target_scale_kelvin} Kelvin.\")"
   ]
  },
  {
   "cell_type": "markdown",
   "id": "d5f544e8-2522-4819-b419-14e7af497ae8",
   "metadata": {},
   "source": [
    "**Exercise 3**"
   ]
  },
  {
   "cell_type": "code",
   "execution_count": 7,
   "id": "0a85be90-29a2-4e91-8ad5-4c167491f645",
   "metadata": {},
   "outputs": [
    {
     "name": "stdout",
     "output_type": "stream",
     "text": [
      "25 Celsius is 77.0 Fahrenheit.\n"
     ]
    }
   ],
   "source": [
    "def convert_temperature(temperature, source_scale, target_scale):\n",
    "    if source_scale == target_scale:\n",
    "        return temperature  # No conversion needed if source and target scales are the same\n",
    "\n",
    "    # Convert the input temperature to Celsius as an intermediate step\n",
    "    if source_scale == 'Fahrenheit':\n",
    "        temperature_celsius = convert_fahrenheit(temperature)\n",
    "    elif source_scale == 'Kelvin':\n",
    "        temperature_celsius = temperature - 273.15\n",
    "    else:\n",
    "        temperature_celsius = temperature\n",
    "\n",
    "    # Convert from Celsius to the target scale\n",
    "    if target_scale == 'Fahrenheit':\n",
    "        return convert_celsius(temperature_celsius)\n",
    "    elif target_scale == 'Kelvin':\n",
    "        return convert_celsius(temperature_celsius, 'Kelvin')\n",
    "    elif target_scale == 'Celsius':\n",
    "        return temperature_celsius\n",
    "    else:\n",
    "        return \"Invalid source_scale or target_scale.\"\n",
    "\n",
    "temperature_input = 25  # Replace with the actual temperature value\n",
    "source_temperature_scale = 'Celsius'  # Replace with the actual source scale\n",
    "target_temperature_scale = 'Fahrenheit'  # Replace with the actual target scale\n",
    "\n",
    "result = convert_temperature(temperature_input, source_temperature_scale, target_temperature_scale)\n",
    "print(f\"{temperature_input} {source_temperature_scale} is {result} {target_temperature_scale}.\")\n"
   ]
  }
 ],
 "metadata": {
  "kernelspec": {
   "display_name": "Python 3 (ipykernel)",
   "language": "python",
   "name": "python3"
  },
  "language_info": {
   "codemirror_mode": {
    "name": "ipython",
    "version": 3
   },
   "file_extension": ".py",
   "mimetype": "text/x-python",
   "name": "python",
   "nbconvert_exporter": "python",
   "pygments_lexer": "ipython3",
   "version": "3.11.5"
  },
  "toc": {
   "base_numbering": 1,
   "nav_menu": {},
   "number_sections": true,
   "sideBar": true,
   "skip_h1_title": false,
   "title_cell": "Table of Contents",
   "title_sidebar": "Contents",
   "toc_cell": false,
   "toc_position": {},
   "toc_section_display": true,
   "toc_window_display": false
  },
  "vscode": {
   "interpreter": {
    "hash": "31f2aee4e71d21fbe5cf8b01ff0e069b9275f58929596ceb00d14d90e3e16cd6"
   }
  }
 },
 "nbformat": 4,
 "nbformat_minor": 5
}
