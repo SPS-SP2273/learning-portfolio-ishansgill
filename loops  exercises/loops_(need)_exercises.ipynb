{
 "cells": [
  {
   "attachments": {},
   "cell_type": "markdown",
   "id": "123456",
   "metadata": {},
   "source": [
    "<div style=\"text-align:left;font-size:2em\"><span style=\"font-weight:bolder;font-size:1.25em\">SP2273 | Learning Portfolio</span><br><br><span style=\"font-weight:bold;color:darkred\">Loops (Need) Exercises</span></div>"
   ]
  },
  {
   "cell_type": "markdown",
   "id": "8d84fddf-4197-4dbb-9880-69aa76940f92",
   "metadata": {},
   "source": [
    "**Exercise 1**"
   ]
  },
  {
   "cell_type": "code",
   "execution_count": 1,
   "id": "1f0934fd-3ee4-40d2-9424-6dfed19f24bb",
   "metadata": {},
   "outputs": [],
   "source": [
    "temperatures_celsius = [\n",
    "    0, 5, 10, 15, 20, 25,\n",
    "    30, 35, 40, 45, 50\n",
    "]"
   ]
  },
  {
   "cell_type": "code",
   "execution_count": 2,
   "id": "3ff58081-2d46-48ed-be75-b84907b94911",
   "metadata": {},
   "outputs": [
    {
     "name": "stdout",
     "output_type": "stream",
     "text": [
      "0 Celsius is 32.0 Fahrenheit\n",
      "5 Celsius is 41.0 Fahrenheit\n",
      "10 Celsius is 50.0 Fahrenheit\n",
      "15 Celsius is 59.0 Fahrenheit\n",
      "20 Celsius is 68.0 Fahrenheit\n",
      "25 Celsius is 77.0 Fahrenheit\n",
      "30 Celsius is 86.0 Fahrenheit\n",
      "35 Celsius is 95.0 Fahrenheit\n",
      "40 Celsius is 104.0 Fahrenheit\n",
      "45 Celsius is 113.0 Fahrenheit\n",
      "50 Celsius is 122.0 Fahrenheit\n"
     ]
    }
   ],
   "source": [
    "for celsius in temperatures_celsius:\n",
    "    fahrenheit = (celsius*9/5) + 32\n",
    "    print(f\"{celsius} Celsius is {fahrenheit} Fahrenheit\")"
   ]
  },
  {
   "cell_type": "markdown",
   "id": "d379d9d8-b53d-461b-a092-a82bf31d10c0",
   "metadata": {},
   "source": [
    "**Example 2**"
   ]
  },
  {
   "cell_type": "code",
   "execution_count": 3,
   "id": "b70e9b84-2c6b-43be-8e3c-30412d870493",
   "metadata": {},
   "outputs": [
    {
     "name": "stdout",
     "output_type": "stream",
     "text": [
      "A1\tA2\tA3\t\n",
      "\n",
      "B1\tB2\tB3\t\n",
      "\n",
      "C1\tC2\tC3\t\n",
      "\n"
     ]
    }
   ],
   "source": [
    "for letter in ['A', 'B', 'C']:\n",
    "    for number in [1, 2, 3]:\n",
    "        print(f'{letter}{number}', end='\\t')\n",
    "    print('\\n')"
   ]
  },
  {
   "cell_type": "code",
   "execution_count": 7,
   "id": "c84ba6d4-7290-4e24-b246-00db47f8bad7",
   "metadata": {},
   "outputs": [
    {
     "name": "stdout",
     "output_type": "stream",
     "text": [
      "1):\t  1\t  2\t  3\t  4\t  5\t\n",
      "\n",
      "2):\t  2\t  4\t  6\t  8\t 10\t\n",
      "\n",
      "3):\t  3\t  6\t  9\t 12\t 15\t\n",
      "\n",
      "4):\t  4\t  8\t 12\t 16\t 20\t\n",
      "\n",
      "5):\t  5\t 10\t 15\t 20\t 25\t\n",
      "\n"
     ]
    }
   ],
   "source": [
    "for i in range(1,6):\n",
    "    print(f\"{i}):\", end='\\t')\n",
    "    for j in range (1,6):\n",
    "        result=i*j\n",
    "        print(f\"{result:3}\", end='\\t')\n",
    "    print('\\n')\n",
    "    "
   ]
  }
 ],
 "metadata": {
  "kernelspec": {
   "display_name": "Python 3 (ipykernel)",
   "language": "python",
   "name": "python3"
  },
  "language_info": {
   "codemirror_mode": {
    "name": "ipython",
    "version": 3
   },
   "file_extension": ".py",
   "mimetype": "text/x-python",
   "name": "python",
   "nbconvert_exporter": "python",
   "pygments_lexer": "ipython3",
   "version": "3.11.5"
  },
  "toc": {
   "base_numbering": 1,
   "nav_menu": {},
   "number_sections": true,
   "sideBar": true,
   "skip_h1_title": false,
   "title_cell": "Table of Contents",
   "title_sidebar": "Contents",
   "toc_cell": false,
   "toc_position": {},
   "toc_section_display": true,
   "toc_window_display": false
  },
  "vscode": {
   "interpreter": {
    "hash": "31f2aee4e71d21fbe5cf8b01ff0e069b9275f58929596ceb00d14d90e3e16cd6"
   }
  }
 },
 "nbformat": 4,
 "nbformat_minor": 5
}
