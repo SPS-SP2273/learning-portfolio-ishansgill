{
 "cells": [
  {
   "attachments": {},
   "cell_type": "markdown",
   "id": "123456",
   "metadata": {},
   "source": [
    "<div style=\"text-align:left;font-size:2em\"><span style=\"font-weight:bolder;font-size:1.25em\">SP2273 | Learning Portfolio</span><br><br><span style=\"font-weight:bold;color:darkred\">Storing Data (Need) Exercises</span></div>"
   ]
  },
  {
   "cell_type": "code",
   "execution_count": 16,
   "id": "175787ad-3673-4c05-8095-633b6c209b95",
   "metadata": {},
   "outputs": [],
   "source": [
    "import numpy as np"
   ]
  },
  {
   "cell_type": "markdown",
   "id": "acd1e688-3c71-4d5e-a124-ff0d91af7df3",
   "metadata": {},
   "source": [
    "**Exercise 1**"
   ]
  },
  {
   "cell_type": "markdown",
   "id": "c887e15d-4e76-47ca-8a47-6e9d25a3999a",
   "metadata": {},
   "source": [
    "Two similarities between lists and arrays\n",
    "1. Order matters for both lists and arrays\n",
    "2. Both lists and arrays use a 0 based index for accessing the data"
   ]
  },
  {
   "cell_type": "markdown",
   "id": "a7d96763-d207-4a6d-be68-f50f7f8d4a6d",
   "metadata": {},
   "source": [
    "Two differences between lists and arrays\n",
    "1. *Arrays only tolerate a single type*\n",
    "2. *Adding lists causes them to grow while adding arrays is an element-wise operation*"
   ]
  },
  {
   "cell_type": "markdown",
   "id": "854621e2-50d1-4307-b8d0-2abac27b8be8",
   "metadata": {},
   "source": [
    "What is a dictionary?\n",
    "- Dictionaries store data that are paired with a key\n",
    "- The values in a dictionary can be accessed using said key"
   ]
  },
  {
   "cell_type": "markdown",
   "id": "599a3e4c-2610-48b5-befd-64d189118c6c",
   "metadata": {},
   "source": [
    "**Exercise 2**"
   ]
  },
  {
   "cell_type": "code",
   "execution_count": 7,
   "id": "8099325a-429f-40be-af7c-1a15d4312917",
   "metadata": {},
   "outputs": [
    {
     "name": "stdout",
     "output_type": "stream",
     "text": [
      "a1\n",
      "c3\n",
      "e5\n",
      "g7\n",
      "i9\n"
     ]
    }
   ],
   "source": [
    "py_list = [\"a1\", \"b2\", \"c3\", \"d4\", \"e5\", \"f6\", \"g7\", \"h8\", \"i9\", \"j10\"]\n",
    "print(py_list[0])                   \n",
    "print(py_list[2])                    \n",
    "print(py_list[4])                    \n",
    "print(py_list[6])\n",
    "print(py_list[8])   "
   ]
  },
  {
   "cell_type": "markdown",
   "id": "6fc5ddd9-2d38-4df1-a3d3-7fa88d1fb9a2",
   "metadata": {},
   "source": [
    "**Exercise 3**"
   ]
  },
  {
   "cell_type": "code",
   "execution_count": 8,
   "id": "dc9f5e91-ffe6-4795-bb7b-32816a6ed39d",
   "metadata": {},
   "outputs": [],
   "source": [
    "elements = ['Hydrogen',\n",
    "            'Helium', 'Lithium',\n",
    "            'Beryllium', 'Boron', 'Carbon',\n",
    "            'Nitrogen', 'Oxygen',\n",
    "            'Fluorine',\n",
    "            'Neon']"
   ]
  },
  {
   "cell_type": "code",
   "execution_count": 11,
   "id": "2878a827-8ed1-4024-ba7a-050e2c4fde8d",
   "metadata": {},
   "outputs": [
    {
     "name": "stdout",
     "output_type": "stream",
     "text": [
      "Beryllium\n",
      "Nitrogen\n"
     ]
    }
   ],
   "source": [
    "print(elements[3])\n",
    "print(elements[-4])"
   ]
  },
  {
   "cell_type": "markdown",
   "id": "11d187c7-6276-45e4-a397-6634b9ebd576",
   "metadata": {},
   "source": [
    "**Exercise 4**"
   ]
  },
  {
   "cell_type": "code",
   "execution_count": 12,
   "id": "2c9bcc41-16a6-4d7f-a2f5-eee7fbc85615",
   "metadata": {},
   "outputs": [],
   "source": [
    "numbers=[45, 60, 1, 30, 96, 1, 96, 57, 16, 1,\n",
    "        99, 62, 86, 43, 42, 60, 59, 1, 1, 35,\n",
    "        83, 47, 34, 28, 68, 23, 22, 92, 1, 79,\n",
    "        1, 29, 94, 72, 46, 47, 1, 74, 32, 20,\n",
    "        8, 37, 35, 1, 89, 29, 86, 19, 43, 61]                  "
   ]
  },
  {
   "cell_type": "code",
   "execution_count": 20,
   "id": "30a7d8bf-a539-4480-aaaa-54f1aaa3a23f",
   "metadata": {},
   "outputs": [
    {
     "data": {
      "text/plain": [
       "9"
      ]
     },
     "execution_count": 20,
     "metadata": {},
     "output_type": "execute_result"
    }
   ],
   "source": [
    "numbers_array = np.array(numbers)\n",
    "np.sum(numbers_array == 1)"
   ]
  }
 ],
 "metadata": {
  "kernelspec": {
   "display_name": "Python 3 (ipykernel)",
   "language": "python",
   "name": "python3"
  },
  "language_info": {
   "codemirror_mode": {
    "name": "ipython",
    "version": 3
   },
   "file_extension": ".py",
   "mimetype": "text/x-python",
   "name": "python",
   "nbconvert_exporter": "python",
   "pygments_lexer": "ipython3",
   "version": "3.11.5"
  },
  "toc": {
   "base_numbering": 1,
   "nav_menu": {},
   "number_sections": true,
   "sideBar": true,
   "skip_h1_title": false,
   "title_cell": "Table of Contents",
   "title_sidebar": "Contents",
   "toc_cell": false,
   "toc_position": {},
   "toc_section_display": true,
   "toc_window_display": false
  },
  "vscode": {
   "interpreter": {
    "hash": "31f2aee4e71d21fbe5cf8b01ff0e069b9275f58929596ceb00d14d90e3e16cd6"
   }
  }
 },
 "nbformat": 4,
 "nbformat_minor": 5
}
