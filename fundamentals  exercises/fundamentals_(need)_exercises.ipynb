{
 "cells": [
  {
   "attachments": {},
   "cell_type": "markdown",
   "id": "123456",
   "metadata": {},
   "source": [
    "<div style=\"text-align:left;font-size:2em\"><span style=\"font-weight:bolder;font-size:1.25em\">SP2273 | Learning Portfolio</span><br><br><span style=\"font-weight:bold;color:darkred\">Fundamentals (Need) Exercises</span></div>"
   ]
  },
  {
   "cell_type": "code",
   "execution_count": 5,
   "id": "e7755b99-624e-4e9f-8d0e-42fa01efd3c1",
   "metadata": {},
   "outputs": [],
   "source": [
    "import numpy as np"
   ]
  },
  {
   "cell_type": "markdown",
   "id": "c5de05bf-02b8-4735-b2d2-e080cb4f7436",
   "metadata": {},
   "source": [
    "**Exercise 1**"
   ]
  },
  {
   "cell_type": "markdown",
   "id": "2384474c-cc6c-4f29-a881-f41cb513894d",
   "metadata": {},
   "source": [
    "- Python has functions like print()\n",
    "- A function executes a specific task\n",
    "- *The python interpreter works sequentially and reads one command at a time*\n",
    "- Python is case sensitive\n",
    "- A # can be used to indicate a comment, it will not be read as part of the code\n",
    "- *= is not the same as ==, = assigns a value while == asks a question*\n",
    "- You can use if, else or elif (else if) to make decisions\n",
    "- Do not use indentations indiscriminately as this could cause the code not to work\n",
    "- *: is used to designate a block of code*\n",
    "- You can assign almost any name for a variable but its best to be specific to the data that it carries\n",
    "- *() is used for functions for mathematics, [] for data lists and {} for storing data in a dictionary*\n",
    "- Packages can be imported for additonal functions, such as the math and numpy package\n",
    "- *The dot(.) indicates ownership, and what it can access depends on the context*"
   ]
  },
  {
   "cell_type": "markdown",
   "id": "a328f16d-7d27-44f9-b556-87ab21145993",
   "metadata": {},
   "source": [
    "**Exercise 2**"
   ]
  },
  {
   "cell_type": "code",
   "execution_count": 13,
   "id": "beafff6e-c2aa-4b8f-8d0b-1b1df2892c8d",
   "metadata": {},
   "outputs": [
    {
     "name": "stdout",
     "output_type": "stream",
     "text": [
      "3 4 5.0\n"
     ]
    }
   ],
   "source": [
    "x, y = 3, 4\n",
    "z = np.sqrt(x**2 + y**2)\n",
    "print(x, y, z)"
   ]
  },
  {
   "cell_type": "markdown",
   "id": "cf935d40-7832-4f20-bb9e-9bd1c614e073",
   "metadata": {},
   "source": [
    "**Exercise 3**"
   ]
  },
  {
   "cell_type": "markdown",
   "id": "8d09c5f8-2ed3-4da0-8df0-8c93c312ecf6",
   "metadata": {},
   "source": [
    "| #  | Term         | Description                                                                                               |\r\n",
    "|----|--------------|-----------------------------------------------------------------------------------------------------------|\r\n",
    "|  1 | Function     | A function is something that executes a specific task                                                     |\r\n",
    "|  2 | Arguments    | A value that is accepted by a function                                                                    |\r\n",
    "|  3 | Comments     | You can use a # to denote a comment, python ignores text from the of the # to the end of the line         |\r\n",
    "|  4 | Indentations | Indentations make python easy to read, but they cannot be used indiscriminately                           |\r\n",
    "|  5 | Packages     | Packages can be imported in order to give python additional functionalities like calculating square roots |\r\n",
    "|  6 | .            | The dot indicates ownership and what it can access depends on the context                                 |\r\n",
    "|  7 | :            | : is used to designate a block of code                                                                    |\r\n",
    "|  8 | []           | Python uses [] for lists of data                                                                          |\r\n",
    "|  9 | [[[]]]       | [[[]]] refers to a 3D list (a list, within a list, within another list)                                   |\r\n",
    "| 10 | {}           | Python uses {} to store data in a dictionary                                                              |"
   ]
  },
  {
   "cell_type": "markdown",
   "id": "2bdd2e20-4ada-4526-98b0-ca67a035777c",
   "metadata": {},
   "source": [
    "**Exercise 4**"
   ]
  },
  {
   "cell_type": "code",
   "execution_count": 14,
   "id": "22a31ecb-f350-4c42-80f8-8ac9dd51e3cc",
   "metadata": {},
   "outputs": [
    {
     "data": {
      "text/plain": [
       "2.5"
      ]
     },
     "execution_count": 14,
     "metadata": {},
     "output_type": "execute_result"
    }
   ],
   "source": [
    "5/2           # Divides 5 by 2 and gives the answer"
   ]
  },
  {
   "cell_type": "code",
   "execution_count": 20,
   "id": "3e8db7cd-ad16-4ed2-8c70-74dfc1950e04",
   "metadata": {},
   "outputs": [
    {
     "data": {
      "text/plain": [
       "5.0"
      ]
     },
     "execution_count": 20,
     "metadata": {},
     "output_type": "execute_result"
    }
   ],
   "source": [
    "10/2     #testing"
   ]
  },
  {
   "cell_type": "code",
   "execution_count": 17,
   "id": "1d63e81b-0133-4135-8d02-c54dac2b5f7e",
   "metadata": {},
   "outputs": [
    {
     "data": {
      "text/plain": [
       "2"
      ]
     },
     "execution_count": 17,
     "metadata": {},
     "output_type": "execute_result"
    }
   ],
   "source": [
    "5//2          # Floor division, it takes 5 divided by 2, gets 2.5 and rounds it down to 2"
   ]
  },
  {
   "cell_type": "code",
   "execution_count": 21,
   "id": "7e4b9e0e-8e90-485b-9d8a-3672f3e6370e",
   "metadata": {},
   "outputs": [
    {
     "data": {
      "text/plain": [
       "3"
      ]
     },
     "execution_count": 21,
     "metadata": {},
     "output_type": "execute_result"
    }
   ],
   "source": [
    "10//3    #testing"
   ]
  },
  {
   "cell_type": "code",
   "execution_count": 16,
   "id": "85ae0f6c-9736-4d9c-a247-1b066919790d",
   "metadata": {},
   "outputs": [
    {
     "data": {
      "text/plain": [
       "1"
      ]
     },
     "execution_count": 16,
     "metadata": {},
     "output_type": "execute_result"
    }
   ],
   "source": [
    "5%2           # The % sign divides 5 by 2 and then gives the remainder"
   ]
  },
  {
   "cell_type": "code",
   "execution_count": 22,
   "id": "2e2f534b-f9f6-4b64-bf6c-f62e761578ec",
   "metadata": {},
   "outputs": [
    {
     "data": {
      "text/plain": [
       "2"
      ]
     },
     "execution_count": 22,
     "metadata": {},
     "output_type": "execute_result"
    }
   ],
   "source": [
    "10%4     #testing"
   ]
  }
 ],
 "metadata": {
  "kernelspec": {
   "display_name": "Python 3 (ipykernel)",
   "language": "python",
   "name": "python3"
  },
  "language_info": {
   "codemirror_mode": {
    "name": "ipython",
    "version": 3
   },
   "file_extension": ".py",
   "mimetype": "text/x-python",
   "name": "python",
   "nbconvert_exporter": "python",
   "pygments_lexer": "ipython3",
   "version": "3.11.5"
  },
  "toc": {
   "base_numbering": 1,
   "nav_menu": {},
   "number_sections": true,
   "sideBar": true,
   "skip_h1_title": false,
   "title_cell": "Table of Contents",
   "title_sidebar": "Contents",
   "toc_cell": false,
   "toc_position": {},
   "toc_section_display": true,
   "toc_window_display": false
  },
  "vscode": {
   "interpreter": {
    "hash": "31f2aee4e71d21fbe5cf8b01ff0e069b9275f58929596ceb00d14d90e3e16cd6"
   }
  }
 },
 "nbformat": 4,
 "nbformat_minor": 5
}
