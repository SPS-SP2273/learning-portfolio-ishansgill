{
 "cells": [
  {
   "attachments": {},
   "cell_type": "markdown",
   "id": "123456",
   "metadata": {},
   "source": [
    "<div style=\"text-align:left;font-size:2em\"><span style=\"font-weight:bolder;font-size:1.25em\">SP2273 | Learning Portfolio</span><br><br><span style=\"font-weight:bold;color:darkred\">Functions (Need)</span></div>"
   ]
  },
  {
   "cell_type": "code",
   "execution_count": 16,
   "id": "629606ec-8549-4558-9149-cc05c962d740",
   "metadata": {},
   "outputs": [],
   "source": [
    "import numpy as np"
   ]
  },
  {
   "attachments": {},
   "cell_type": "markdown",
   "id": "6c0fa523",
   "metadata": {},
   "source": [
    "# What to expect in this chapter"
   ]
  },
  {
   "attachments": {},
   "cell_type": "markdown",
   "id": "7fefde85",
   "metadata": {},
   "source": [
    "# 1 User-defined functions"
   ]
  },
  {
   "cell_type": "markdown",
   "id": "4381a9ef-f221-4ae2-8da1-10b2313a658e",
   "metadata": {},
   "source": [
    "print() is an example of an internal function in Python. You can also create your own functions. There are two ways to do this: **named** and **anonymous**"
   ]
  },
  {
   "attachments": {},
   "cell_type": "markdown",
   "id": "e96252da",
   "metadata": {},
   "source": [
    "## 1.1 Named Functions"
   ]
  },
  {
   "attachments": {},
   "cell_type": "markdown",
   "id": "44fd3829",
   "metadata": {},
   "source": [
    "### Named functions that return"
   ]
  },
  {
   "cell_type": "code",
   "execution_count": 1,
   "id": "9171db40",
   "metadata": {},
   "outputs": [],
   "source": [
    "def greeting(name):\n",
    "    if name == 'Batman':\n",
    "        return 'Hello Batman! So, nice to meet you!'\n",
    "    else:\n",
    "        return f'Hello {name}!'\n"
   ]
  },
  {
   "cell_type": "markdown",
   "id": "37ab99d7-073f-4e4a-a689-162ec659fc67",
   "metadata": {},
   "source": [
    "The function’s name is greeting and it accepts a single argument called name. We can then use the function as:"
   ]
  },
  {
   "cell_type": "code",
   "execution_count": 4,
   "id": "ed9e0a8b-da63-4dcd-8dbb-75e04eedeb2f",
   "metadata": {},
   "outputs": [
    {
     "data": {
      "text/plain": [
       "'Hello Super Man!'"
      ]
     },
     "execution_count": 4,
     "metadata": {},
     "output_type": "execute_result"
    }
   ],
   "source": [
    "greeting(\"Super Man\")"
   ]
  },
  {
   "cell_type": "code",
   "execution_count": 5,
   "id": "d0027cd2-41d0-4d20-ad23-8ff889217332",
   "metadata": {},
   "outputs": [
    {
     "data": {
      "text/plain": [
       "'Hello Super Man!'"
      ]
     },
     "execution_count": 5,
     "metadata": {},
     "output_type": "execute_result"
    }
   ],
   "source": [
    "greeting(name=\"Super Man\")"
   ]
  },
  {
   "cell_type": "code",
   "execution_count": 6,
   "id": "8a61bd42-f2ec-4bed-b57e-fccf6266f150",
   "metadata": {},
   "outputs": [
    {
     "data": {
      "text/plain": [
       "'Hello Batman! So, nice to meet you!'"
      ]
     },
     "execution_count": 6,
     "metadata": {},
     "output_type": "execute_result"
    }
   ],
   "source": [
    "greeting(\"Batman\")"
   ]
  },
  {
   "cell_type": "code",
   "execution_count": 7,
   "id": "95c15e74-c2ae-4478-82fa-e80b5140572c",
   "metadata": {},
   "outputs": [
    {
     "name": "stdout",
     "output_type": "stream",
     "text": [
      "Hello Batman! So, nice to meet you!\n"
     ]
    }
   ],
   "source": [
    "greet=greeting(name='Batman')\n",
    "print(greet)"
   ]
  },
  {
   "cell_type": "code",
   "execution_count": 8,
   "id": "f54e0c6e-8050-4f41-bd40-f58e22e9d87e",
   "metadata": {},
   "outputs": [
    {
     "name": "stdout",
     "output_type": "stream",
     "text": [
      "Hello Super Man!\n"
     ]
    }
   ],
   "source": [
    "print(greeting(name='Super Man'))"
   ]
  },
  {
   "cell_type": "markdown",
   "id": "629d81e7-ad98-48c6-9f00-2432afc78f7d",
   "metadata": {},
   "source": [
    "**You can use return only within a function**"
   ]
  },
  {
   "cell_type": "markdown",
   "id": "38d31fff-08f4-4021-b51c-0379da259187",
   "metadata": {},
   "source": [
    "example of a function that accepts a list and returns the maximum, minimum and mean."
   ]
  },
  {
   "cell_type": "code",
   "execution_count": 22,
   "id": "a9095ce2-5097-4df3-8134-a12038b778a5",
   "metadata": {},
   "outputs": [],
   "source": [
    "def basic_stats(numbers):\n",
    "    np_numbers = np.array(numbers)\n",
    "    #my_min = np_numbers.min()\n",
    "    #my_max = np_numbers.max()\n",
    "    #my_mean = np_numbers.mean()\n",
    "    #return my_max, my_min, my_mean\n",
    "    return np_numbers"
   ]
  },
  {
   "cell_type": "code",
   "execution_count": 25,
   "id": "e55ec694-225d-4683-be17-83f0b0001484",
   "metadata": {
    "scrolled": true
   },
   "outputs": [
    {
     "data": {
      "text/plain": [
       "array([1, 2, 3, 4, 5])"
      ]
     },
     "execution_count": 25,
     "metadata": {},
     "output_type": "execute_result"
    }
   ],
   "source": [
    "basic_stats([1, 2, 3, 4, 5])"
   ]
  },
  {
   "cell_type": "code",
   "execution_count": 28,
   "id": "f8f22ea3-00f8-4e62-8fe7-3df770540b1f",
   "metadata": {},
   "outputs": [],
   "source": [
    "def basic_stats(numbers):             #example for minimum\n",
    "    np_numbers = np.array(numbers)\n",
    "    my_min = np_numbers.min()\n",
    "    #my_max = np_numbers.max()\n",
    "    #my_mean = np_numbers.mean()\n",
    "    #return my_max, my_min, my_mean\n",
    "    return my_min"
   ]
  },
  {
   "cell_type": "code",
   "execution_count": 27,
   "id": "44de6130-7416-4181-b8d5-3f981fd022e2",
   "metadata": {},
   "outputs": [
    {
     "data": {
      "text/plain": [
       "1"
      ]
     },
     "execution_count": 27,
     "metadata": {},
     "output_type": "execute_result"
    }
   ],
   "source": [
    "basic_stats([1, 2, 3, 4, 5])"
   ]
  },
  {
   "attachments": {},
   "cell_type": "markdown",
   "id": "93994925",
   "metadata": {},
   "source": [
    "### Named functions that don’t return"
   ]
  },
  {
   "cell_type": "markdown",
   "id": "83e11ad3-7c38-4f2f-8d0e-8f3a58967a7d",
   "metadata": {},
   "source": [
    "A function does not have to return anything. A good example is print(), which does something but does not return a value. You will often also need functions like these, for instance, to save data to a file.\n"
   ]
  },
  {
   "attachments": {},
   "cell_type": "markdown",
   "id": "404a1430",
   "metadata": {},
   "source": [
    "## 1.2 Anonymous functions"
   ]
  },
  {
   "cell_type": "markdown",
   "id": "f725e95b-957d-4c92-8a08-6917ad566bcd",
   "metadata": {},
   "source": [
    "Anonymous or lambda functions are suitable for short one-liners."
   ]
  },
  {
   "cell_type": "markdown",
   "id": "cce80590-b0f6-491c-a7ae-81a13ac7922e",
   "metadata": {},
   "source": [
    "**Example 1**"
   ]
  },
  {
   "cell_type": "code",
   "execution_count": 29,
   "id": "a701371a-57e7-4d93-9bdc-92def0a53868",
   "metadata": {},
   "outputs": [],
   "source": [
    "my_short_function = lambda name: f\"Hello {name}!\""
   ]
  },
  {
   "cell_type": "code",
   "execution_count": 30,
   "id": "041afc67-cc5d-4100-8ecf-ea7b63d3123d",
   "metadata": {},
   "outputs": [
    {
     "data": {
      "text/plain": [
       "'Hello Super Man!'"
      ]
     },
     "execution_count": 30,
     "metadata": {},
     "output_type": "execute_result"
    }
   ],
   "source": [
    "my_short_function(name=\"Super Man\")   #lambda function returns the value of the last statement"
   ]
  },
  {
   "cell_type": "markdown",
   "id": "f2db96e3-a809-463d-8fb8-9f20c59a6f45",
   "metadata": {},
   "source": [
    "**Example 2**"
   ]
  },
  {
   "cell_type": "code",
   "execution_count": 31,
   "id": "81857c1d-c48e-49ff-a81c-9b2371e527de",
   "metadata": {},
   "outputs": [],
   "source": [
    "numbers=[[9, 0, -10],\n",
    "         [8, 1, -11],\n",
    "         [7, 2, -12],\n",
    "         [6, 3, -13],\n",
    "         [5, 4, -14],\n",
    "         [4, 5, -15],\n",
    "         [3, 6, -16],\n",
    "         [2, 7, -17],\n",
    "         [1, 8, -18],\n",
    "         [0, 9, -19]]"
   ]
  },
  {
   "cell_type": "markdown",
   "id": "0608bfa3-1737-408e-9b86-6697ae4c475c",
   "metadata": {},
   "source": [
    "can use the sorted() function for this"
   ]
  },
  {
   "cell_type": "code",
   "execution_count": 32,
   "id": "47e56a95-0723-4294-a016-01fae3f816c0",
   "metadata": {},
   "outputs": [
    {
     "data": {
      "text/plain": [
       "[[0, 9, -19],\n",
       " [1, 8, -18],\n",
       " [2, 7, -17],\n",
       " [3, 6, -16],\n",
       " [4, 5, -15],\n",
       " [5, 4, -14],\n",
       " [6, 3, -13],\n",
       " [7, 2, -12],\n",
       " [8, 1, -11],\n",
       " [9, 0, -10]]"
      ]
     },
     "execution_count": 32,
     "metadata": {},
     "output_type": "execute_result"
    }
   ],
   "source": [
    "# Sort by comparing the default key\n",
    "# (i.e., the 1st element)\n",
    "sorted(numbers)"
   ]
  },
  {
   "cell_type": "code",
   "execution_count": 33,
   "id": "1f22c1f9-9572-4a0a-9068-2bd1fa19598e",
   "metadata": {},
   "outputs": [
    {
     "data": {
      "text/plain": [
       "[[9, 0, -10],\n",
       " [8, 1, -11],\n",
       " [7, 2, -12],\n",
       " [6, 3, -13],\n",
       " [5, 4, -14],\n",
       " [4, 5, -15],\n",
       " [3, 6, -16],\n",
       " [2, 7, -17],\n",
       " [1, 8, -18],\n",
       " [0, 9, -19]]"
      ]
     },
     "execution_count": 33,
     "metadata": {},
     "output_type": "execute_result"
    }
   ],
   "source": [
    "# Sort by comparing a custom key\n",
    "# that uses the 2nd element (index=1)\n",
    "sorted(numbers, key=lambda x: x[1])"
   ]
  },
  {
   "cell_type": "code",
   "execution_count": 34,
   "id": "556a9bcc-12bd-42f2-b2aa-03094e5c60f4",
   "metadata": {},
   "outputs": [
    {
     "data": {
      "text/plain": [
       "[[0, 9, -19],\n",
       " [1, 8, -18],\n",
       " [2, 7, -17],\n",
       " [3, 6, -16],\n",
       " [4, 5, -15],\n",
       " [5, 4, -14],\n",
       " [6, 3, -13],\n",
       " [7, 2, -12],\n",
       " [8, 1, -11],\n",
       " [9, 0, -10]]"
      ]
     },
     "execution_count": 34,
     "metadata": {},
     "output_type": "execute_result"
    }
   ],
   "source": [
    "# Sort by comparing a custom key\n",
    "# that uses the sum of the elements.\n",
    "sorted(numbers, key=lambda x: sum(x))   "
   ]
  },
  {
   "attachments": {},
   "cell_type": "markdown",
   "id": "55831214",
   "metadata": {},
   "source": [
    "## 1.3 Optional arguments"
   ]
  },
  {
   "cell_type": "markdown",
   "id": "6829c4ac-7b3d-4294-bc86-76a5ae68fe2a",
   "metadata": {},
   "source": [
    "Python allows us to make arguments to our function optional. To do this, we need to give the argument a default value so that it always has something to work with"
   ]
  },
  {
   "cell_type": "code",
   "execution_count": 35,
   "id": "85254b15-5e2b-48ec-9473-a06f03230a0b",
   "metadata": {},
   "outputs": [],
   "source": [
    "def greeting(name='no one'):\n",
    "    if name == 'Batman':\n",
    "        return 'Hello Batman! So, nice to meet you!'\n",
    "    else:\n",
    "        return f'Hello {name}!'"
   ]
  },
  {
   "cell_type": "code",
   "execution_count": 37,
   "id": "a0df6b11-e174-449b-9768-90478c310762",
   "metadata": {},
   "outputs": [
    {
     "data": {
      "text/plain": [
       "'Hello no one!'"
      ]
     },
     "execution_count": 37,
     "metadata": {},
     "output_type": "execute_result"
    }
   ],
   "source": [
    "greeting()  #still works withouit an error"
   ]
  },
  {
   "cell_type": "code",
   "execution_count": 38,
   "id": "5949dbc7-aed2-463a-9d56-5c44bbf7d2b2",
   "metadata": {},
   "outputs": [
    {
     "data": {
      "text/plain": [
       "\u001b[1;31mSignature:\u001b[0m \u001b[0mprint\u001b[0m\u001b[1;33m(\u001b[0m\u001b[1;33m*\u001b[0m\u001b[0margs\u001b[0m\u001b[1;33m,\u001b[0m \u001b[0msep\u001b[0m\u001b[1;33m=\u001b[0m\u001b[1;34m' '\u001b[0m\u001b[1;33m,\u001b[0m \u001b[0mend\u001b[0m\u001b[1;33m=\u001b[0m\u001b[1;34m'\\n'\u001b[0m\u001b[1;33m,\u001b[0m \u001b[0mfile\u001b[0m\u001b[1;33m=\u001b[0m\u001b[1;32mNone\u001b[0m\u001b[1;33m,\u001b[0m \u001b[0mflush\u001b[0m\u001b[1;33m=\u001b[0m\u001b[1;32mFalse\u001b[0m\u001b[1;33m)\u001b[0m\u001b[1;33m\u001b[0m\u001b[1;33m\u001b[0m\u001b[0m\n",
       "\u001b[1;31mDocstring:\u001b[0m\n",
       "Prints the values to a stream, or to sys.stdout by default.\n",
       "\n",
       "sep\n",
       "  string inserted between values, default a space.\n",
       "end\n",
       "  string appended after the last value, default a newline.\n",
       "file\n",
       "  a file-like object (stream); defaults to the current sys.stdout.\n",
       "flush\n",
       "  whether to forcibly flush the stream.\n",
       "\u001b[1;31mType:\u001b[0m      builtin_function_or_method"
      ]
     },
     "metadata": {},
     "output_type": "display_data"
    }
   ],
   "source": [
    "?print"
   ]
  },
  {
   "cell_type": "code",
   "execution_count": 39,
   "id": "2e3fb0da-9497-4ebc-83c8-3ca81afaf33f",
   "metadata": {},
   "outputs": [
    {
     "name": "stdout",
     "output_type": "stream",
     "text": [
      "I am Batman!\n",
      "I---am---Batman!\n"
     ]
    }
   ],
   "source": [
    "# Using default values\n",
    "print('I', 'am', 'Batman!')\n",
    "# Specifying an optional argument\n",
    "print('I', 'am', 'Batman!', sep='---')  "
   ]
  },
  {
   "cell_type": "markdown",
   "id": "c8a20125-1aa6-4901-9bd9-252daf95169b",
   "metadata": {},
   "source": [
    "- Can define your own functions\n",
    "- Functions can have optional arguments\n",
    "- Functions don't always have to return anything"
   ]
  },
  {
   "attachments": {},
   "cell_type": "markdown",
   "id": "7d153819",
   "metadata": {},
   "source": [
    "## 1.4 The importance of functions?"
   ]
  },
  {
   "attachments": {},
   "cell_type": "markdown",
   "id": "f366d4df",
   "metadata": {},
   "source": [
    "### An argument for functions"
   ]
  },
  {
   "cell_type": "markdown",
   "id": "113fb463-b0a8-44e4-91f0-5e06f76ddbb7",
   "metadata": {},
   "source": [
    "- Abstraction of details The most important benefit of functions goes beyond programming and relates to your ability to strategize. If you break up a complicated solution into modular chunks (i.e., functions), it becomes easier to think about it because you are not dealing with all the details all at once. As a result, it is easier to focus on your overall solution because you are not distracted by unnecessary information. This hiding of ‘stuff’ is called abstraction in computer science lingo. \n",
    "- Reusability of code If you encapsulate a chunk of code in a function, it becomes straightforward to reuse it instead of copying and pasting at different places. This means your code will be shorter and more compact.\n",
    "- Maintainability of code With functions, your code is easier to change and maintain because you need only make changes in one place, at the function definition.\r\n",
    "\r\n",
    "\n"
   ]
  },
  {
   "attachments": {},
   "cell_type": "markdown",
   "id": "ccf634b6",
   "metadata": {},
   "source": [
    "### A word of caution"
   ]
  },
  {
   "cell_type": "markdown",
   "id": "566d51cf-33d8-4fce-b63b-0fa9166edfc6",
   "metadata": {},
   "source": [
    "There are many instances where functions are abused; for example, by trying to do too many things or having too many arguments. They can also be overused. Having too many functions can make it difficult to read the code and also increase computational overheads\n"
   ]
  }
 ],
 "metadata": {
  "kernelspec": {
   "display_name": "Python 3 (ipykernel)",
   "language": "python",
   "name": "python3"
  },
  "language_info": {
   "codemirror_mode": {
    "name": "ipython",
    "version": 3
   },
   "file_extension": ".py",
   "mimetype": "text/x-python",
   "name": "python",
   "nbconvert_exporter": "python",
   "pygments_lexer": "ipython3",
   "version": "3.11.5"
  },
  "toc": {
   "base_numbering": 1,
   "nav_menu": {},
   "number_sections": true,
   "sideBar": true,
   "skip_h1_title": false,
   "title_cell": "Table of Contents",
   "title_sidebar": "Contents",
   "toc_cell": false,
   "toc_position": {},
   "toc_section_display": true,
   "toc_window_display": false
  },
  "vscode": {
   "interpreter": {
    "hash": "31f2aee4e71d21fbe5cf8b01ff0e069b9275f58929596ceb00d14d90e3e16cd6"
   }
  }
 },
 "nbformat": 4,
 "nbformat_minor": 5
}
