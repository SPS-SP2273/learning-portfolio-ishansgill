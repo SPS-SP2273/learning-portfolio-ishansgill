{
 "cells": [
  {
   "attachments": {},
   "cell_type": "markdown",
   "id": "123456",
   "metadata": {},
   "source": [
    "<div style=\"text-align:left;font-size:2em\"><span style=\"font-weight:bolder;font-size:1.25em\">SP2273 | Learning Portfolio</span><br><br><span style=\"font-weight:bold;color:darkred\">Fundamentals (Good)</span></div>"
   ]
  },
  {
   "attachments": {},
   "cell_type": "markdown",
   "id": "69e5108f",
   "metadata": {},
   "source": [
    "# What to expect in this chapter"
   ]
  },
  {
   "attachments": {},
   "cell_type": "markdown",
   "id": "a7ee442e",
   "metadata": {},
   "source": [
    "# There is more to if"
   ]
  },
  {
   "cell_type": "code",
   "execution_count": 4,
   "id": "56f475eb-e16d-4103-ab66-0fa397389424",
   "metadata": {},
   "outputs": [
    {
     "name": "stdout",
     "output_type": "stream",
     "text": [
      "Hello Batman!\n"
     ]
    }
   ],
   "source": [
    "name = 'Batman'\n",
    "\n",
    "if name == 'Batman':\n",
    "    print('Hello Batman!')\n",
    "elif name == 'Robin':  #elif means else if, can have many blocks of this\n",
    "    print('Hello Sidekick!')\n",
    "else:\n",
    "    print('Hello World!')"
   ]
  },
  {
   "cell_type": "code",
   "execution_count": 2,
   "id": "87d49bab-2ba5-4462-818b-807d168ca152",
   "metadata": {},
   "outputs": [
    {
     "name": "stdout",
     "output_type": "stream",
     "text": [
      "Hello World!\n"
     ]
    }
   ],
   "source": [
    "name = 'Batm'\n",
    "\n",
    "if name == 'Batman':\n",
    "    print('Hello Batman!')\n",
    "elif name == 'Robin':\n",
    "    print('Hello Sidekick!')\n",
    "else:\n",
    "    print('Hello World!')"
   ]
  },
  {
   "cell_type": "code",
   "execution_count": 3,
   "id": "3b666366-f7fe-46f8-9fe0-fcb86183d5cb",
   "metadata": {},
   "outputs": [
    {
     "name": "stdout",
     "output_type": "stream",
     "text": [
      "Hello Sidekick!\n"
     ]
    }
   ],
   "source": [
    "name = 'Robin'\n",
    "\n",
    "if name == 'Batman':\n",
    "    print('Hello Batman!')\n",
    "elif name == 'Robin':\n",
    "    print('Hello Sidekick!')\n",
    "else:\n",
    "    print('Hello World!')"
   ]
  },
  {
   "attachments": {},
   "cell_type": "markdown",
   "id": "292508e5",
   "metadata": {},
   "source": [
    "# Asking questions"
   ]
  },
  {
   "cell_type": "markdown",
   "id": "32bbd53f-dfa5-4154-b464-4df9c543c71a",
   "metadata": {},
   "source": [
    "To use if to make decisions we need to be able to ask questions; some of which might be complicated."
   ]
  },
  {
   "cell_type": "code",
   "execution_count": 5,
   "id": "f0cddfa5-57d2-481f-af26-437dbd50b2c3",
   "metadata": {},
   "outputs": [],
   "source": [
    "fruits = ['apple', 'banana', 'pineapple', 'jackfruit']\n",
    "vegetables = ['celery', 'potato', 'broccoli', 'kale']"
   ]
  },
  {
   "cell_type": "code",
   "execution_count": 6,
   "id": "b50636c6-eaf3-4c72-bad8-eec081da6bf8",
   "metadata": {},
   "outputs": [
    {
     "data": {
      "text/plain": [
       "True"
      ]
     },
     "execution_count": 6,
     "metadata": {},
     "output_type": "execute_result"
    }
   ],
   "source": [
    "'apple' in fruits"
   ]
  },
  {
   "cell_type": "code",
   "execution_count": 7,
   "id": "f0f91332-38ea-4b67-9812-2e45326f9be7",
   "metadata": {},
   "outputs": [
    {
     "data": {
      "text/plain": [
       "False"
      ]
     },
     "execution_count": 7,
     "metadata": {},
     "output_type": "execute_result"
    }
   ],
   "source": [
    "'peach' in fruits"
   ]
  },
  {
   "cell_type": "code",
   "execution_count": 8,
   "id": "c6cac156-7b72-44f3-832b-182eee287eae",
   "metadata": {},
   "outputs": [
    {
     "data": {
      "text/plain": [
       "True"
      ]
     },
     "execution_count": 8,
     "metadata": {},
     "output_type": "execute_result"
    }
   ],
   "source": [
    "'peach' not in fruits"
   ]
  },
  {
   "cell_type": "code",
   "execution_count": 10,
   "id": "b0c11e2f-89d1-4470-8485-eefb42f5443f",
   "metadata": {},
   "outputs": [
    {
     "data": {
      "text/plain": [
       "True"
      ]
     },
     "execution_count": 10,
     "metadata": {},
     "output_type": "execute_result"
    }
   ],
   "source": [
    "'a' in 'apple'"
   ]
  },
  {
   "cell_type": "code",
   "execution_count": 11,
   "id": "273bd5ea-2834-42f7-8ef4-4e2df52988b4",
   "metadata": {},
   "outputs": [
    {
     "data": {
      "text/plain": [
       "False"
      ]
     },
     "execution_count": 11,
     "metadata": {},
     "output_type": "execute_result"
    }
   ],
   "source": [
    "'g' in 'celery'"
   ]
  },
  {
   "cell_type": "code",
   "execution_count": 12,
   "id": "261d14cd-0e40-4b30-a4ca-06b4199d7a88",
   "metadata": {},
   "outputs": [
    {
     "data": {
      "text/plain": [
       "True"
      ]
     },
     "execution_count": 12,
     "metadata": {},
     "output_type": "execute_result"
    }
   ],
   "source": [
    "('apple' in fruits) and ('celery' in vegetables)"
   ]
  },
  {
   "cell_type": "code",
   "execution_count": 13,
   "id": "03766153-d047-4e6f-bdc0-044d86ec8cd2",
   "metadata": {},
   "outputs": [
    {
     "data": {
      "text/plain": [
       "True"
      ]
     },
     "execution_count": 13,
     "metadata": {},
     "output_type": "execute_result"
    }
   ],
   "source": [
    "('apple' in fruits) or ('celery' in vegetables)"
   ]
  },
  {
   "cell_type": "markdown",
   "id": "00cb3367-96b8-4043-bae0-8f90d704b76e",
   "metadata": {},
   "source": [
    "not, in, and, or are some Python keywords that are useful in asking questions."
   ]
  },
  {
   "attachments": {},
   "cell_type": "markdown",
   "id": "53d9436d",
   "metadata": {},
   "source": [
    "# Asking Math questions"
   ]
  },
  {
   "cell_type": "markdown",
   "id": "39a80d9e-117b-479b-b86f-70833b97554c",
   "metadata": {},
   "source": [
    "For symbols ref [sp2273 website](https://sps.nus.edu.sg/sp2273/docs/python_basics/02_basics/2_basics_good.html)\n"
   ]
  },
  {
   "cell_type": "code",
   "execution_count": 14,
   "id": "11180a5b-70a1-4670-b46e-35c15ebbb15c",
   "metadata": {},
   "outputs": [
    {
     "data": {
      "text/plain": [
       "True"
      ]
     },
     "execution_count": 14,
     "metadata": {},
     "output_type": "execute_result"
    }
   ],
   "source": [
    "10>3"
   ]
  },
  {
   "cell_type": "code",
   "execution_count": 15,
   "id": "0ae72d4a-3fc1-435a-9474-22ce50de04d9",
   "metadata": {},
   "outputs": [],
   "source": [
    "x=3"
   ]
  },
  {
   "cell_type": "code",
   "execution_count": 16,
   "id": "067343e2-66f6-4b44-886a-02a433923d98",
   "metadata": {},
   "outputs": [
    {
     "data": {
      "text/plain": [
       "False"
      ]
     },
     "execution_count": 16,
     "metadata": {},
     "output_type": "execute_result"
    }
   ],
   "source": [
    "x>5 and x<15"
   ]
  },
  {
   "cell_type": "code",
   "execution_count": 17,
   "id": "e9bf65cc-a239-4d3a-936a-8af07d9c05ad",
   "metadata": {},
   "outputs": [
    {
     "data": {
      "text/plain": [
       "True"
      ]
     },
     "execution_count": 17,
     "metadata": {},
     "output_type": "execute_result"
    }
   ],
   "source": [
    "x>5 or x<15"
   ]
  },
  {
   "attachments": {},
   "cell_type": "markdown",
   "id": "c4aabeeb",
   "metadata": {},
   "source": [
    "# Python stores information in different formats or types"
   ]
  },
  {
   "cell_type": "markdown",
   "id": "ca572a1e-fe2d-45f6-b51c-ec3cdfdef999",
   "metadata": {},
   "source": [
    "For efficiency (i.e., speed and memory), computers store information in different ways. For example, here are four ways we can store the number 1.234. We are also using the function type() to ask Python how it is storing the information.\n",
    "\n"
   ]
  },
  {
   "cell_type": "code",
   "execution_count": 18,
   "id": "8fd21499-edbc-4ef0-b942-aac6edddedec",
   "metadata": {},
   "outputs": [
    {
     "name": "stdout",
     "output_type": "stream",
     "text": [
      "1 <class 'int'>\n"
     ]
    }
   ],
   "source": [
    "x = int(1.234)  #as an integer (int)\n",
    "print(x, type(x))"
   ]
  },
  {
   "cell_type": "code",
   "execution_count": 19,
   "id": "fb639e1d-6b4d-48ba-b79f-5e3bc26452b8",
   "metadata": {},
   "outputs": [
    {
     "name": "stdout",
     "output_type": "stream",
     "text": [
      "1.234 <class 'str'>\n"
     ]
    }
   ],
   "source": [
    "x = str(1.234)  #as an English word (str)\n",
    "print(x, type(x))"
   ]
  },
  {
   "cell_type": "code",
   "execution_count": 20,
   "id": "722556ff-bc3d-4895-90fd-117c15c45bf7",
   "metadata": {},
   "outputs": [
    {
     "name": "stdout",
     "output_type": "stream",
     "text": [
      "1.234 <class 'float'>\n"
     ]
    }
   ],
   "source": [
    "x = float(1.234)  #as a decimal number (float)\n",
    "print(x, type(x))"
   ]
  },
  {
   "cell_type": "code",
   "execution_count": 22,
   "id": "d7f990ba-4d3b-49e2-b89c-996ccb48f796",
   "metadata": {},
   "outputs": [
    {
     "name": "stdout",
     "output_type": "stream",
     "text": [
      "(1.234+0j) <class 'complex'>\n"
     ]
    }
   ],
   "source": [
    "x = complex(1.234) #as a complex number (complex)\n",
    "print(x, type(x))"
   ]
  },
  {
   "cell_type": "code",
   "execution_count": 23,
   "id": "9bd0a9c3-d887-44ea-8886-7bd124379798",
   "metadata": {},
   "outputs": [
    {
     "name": "stdout",
     "output_type": "stream",
     "text": [
      "1.234 <class 'str'>\n"
     ]
    }
   ],
   "source": [
    "x = '1.234'        # x is a string\n",
    "print(x, type(x))"
   ]
  },
  {
   "cell_type": "code",
   "execution_count": 24,
   "id": "a5216cce-b0da-446b-a4db-33a30694665c",
   "metadata": {},
   "outputs": [
    {
     "name": "stdout",
     "output_type": "stream",
     "text": [
      "1.234 <class 'float'>\n"
     ]
    }
   ],
   "source": [
    "x = float(x)       # x is now a decimal number\n",
    "print(x, type(x))"
   ]
  },
  {
   "attachments": {},
   "cell_type": "markdown",
   "id": "d5e162df",
   "metadata": {},
   "source": [
    "# Never compare floats directly"
   ]
  },
  {
   "cell_type": "markdown",
   "id": "6d335e0b-0fb4-405a-b156-74971a4f4960",
   "metadata": {},
   "source": [
    "when often need to compare numbers, especially for scientific work. Unfortunately, since computers have finite (hardware) resources, floating point numbers cannot be exactly stored in a computer3. This leads to errors called roundoff errors"
   ]
  },
  {
   "cell_type": "code",
   "execution_count": 25,
   "id": "3ebece99-149a-417a-abb6-a8a8fa1c8087",
   "metadata": {},
   "outputs": [
    {
     "data": {
      "text/plain": [
       "False"
      ]
     },
     "execution_count": 25,
     "metadata": {},
     "output_type": "execute_result"
    }
   ],
   "source": [
    "a = 0.1\n",
    "a3 = 0.3\n",
    "a * 3 == a3"
   ]
  },
  {
   "cell_type": "code",
   "execution_count": 31,
   "id": "16a0251d-177b-48b8-9576-b2c7aa2de78e",
   "metadata": {},
   "outputs": [
    {
     "data": {
      "text/plain": [
       "'0.29999999999999999'"
      ]
     },
     "execution_count": 31,
     "metadata": {},
     "output_type": "execute_result"
    }
   ],
   "source": [
    "f'{0.3:.17f}'   #python stores the number as 0.2999999999"
   ]
  },
  {
   "attachments": {},
   "cell_type": "markdown",
   "id": "719256a3",
   "metadata": {},
   "source": [
    "## A solution"
   ]
  },
  {
   "cell_type": "markdown",
   "id": "97184411-5513-42b6-9605-235f4872a8aa",
   "metadata": {},
   "source": [
    "To get around these types of issues, you should check if the variable is close to the expected values instead of checking for equality"
   ]
  },
  {
   "cell_type": "code",
   "execution_count": 33,
   "id": "4d6f53e3-ef1b-4568-a304-cf79d622f246",
   "metadata": {},
   "outputs": [
    {
     "data": {
      "text/plain": [
       "5.551115123125783e-17"
      ]
     },
     "execution_count": 33,
     "metadata": {},
     "output_type": "execute_result"
    }
   ],
   "source": [
    "a*3 - a3    #ans wont be 0, but it will be a very small number indicating they are close"
   ]
  },
  {
   "cell_type": "code",
   "execution_count": 34,
   "id": "7eef4ae2-34e4-42af-b6c9-f0d1d8c104f2",
   "metadata": {},
   "outputs": [
    {
     "data": {
      "text/plain": [
       "True"
      ]
     },
     "execution_count": 34,
     "metadata": {},
     "output_type": "execute_result"
    }
   ],
   "source": [
    "eps = 1E-10       #We are ok to conclude they are the same if the difference is less that 1E-10, ie a very small number\n",
    "abs(a * 3 - a3) < eps"
   ]
  },
  {
   "cell_type": "code",
   "execution_count": 35,
   "id": "738a8b50-0ae4-4f03-a688-81bd10c4b8f0",
   "metadata": {},
   "outputs": [],
   "source": [
    "import numpy as np     #just do this its easier "
   ]
  },
  {
   "cell_type": "code",
   "execution_count": 30,
   "id": "fd4d9665-b7a5-4af3-a758-756d934a0110",
   "metadata": {},
   "outputs": [
    {
     "data": {
      "text/plain": [
       "True"
      ]
     },
     "execution_count": 30,
     "metadata": {},
     "output_type": "execute_result"
    }
   ],
   "source": [
    "np.isclose(a * 3, a3)"
   ]
  },
  {
   "attachments": {},
   "cell_type": "markdown",
   "id": "54d395a1",
   "metadata": {},
   "source": [
    "# Combining English and variables"
   ]
  },
  {
   "attachments": {},
   "cell_type": "markdown",
   "id": "58cc0270",
   "metadata": {},
   "source": [
    "## Structure of f-strings"
   ]
  },
  {
   "cell_type": "markdown",
   "id": "2e8323d1-122a-46de-93ed-50d410e769d3",
   "metadata": {},
   "source": [
    "f-string formatting has the structure {X:>0Y.ZW}"
   ]
  },
  {
   "cell_type": "markdown",
   "id": "e1806576-a030-49d0-8dfa-de6cd30596de",
   "metadata": {},
   "source": [
    "See [website](https://sps.nus.edu.sg/sp2273/docs/python_basics/02_basics/2_basics_good.html) for more detail on formatting"
   ]
  },
  {
   "cell_type": "code",
   "execution_count": 36,
   "id": "a7c1cbce-e7a5-49bf-9713-b53da930962d",
   "metadata": {},
   "outputs": [
    {
     "name": "stdout",
     "output_type": "stream",
     "text": [
      "Hello Batman!\n"
     ]
    }
   ],
   "source": [
    "name = \"Batman\"\n",
    "print(f\"Hello {name}!\")"
   ]
  },
  {
   "cell_type": "code",
   "execution_count": 37,
   "id": "c47a8e67-a343-4b4a-8761-cd8d1d4b57f6",
   "metadata": {},
   "outputs": [
    {
     "name": "stdout",
     "output_type": "stream",
     "text": [
      "Hello BATMAN!\n"
     ]
    }
   ],
   "source": [
    "name = \"Batman\"\n",
    "print(f\"Hello {name.upper()}!\")"
   ]
  },
  {
   "cell_type": "code",
   "execution_count": 39,
   "id": "deac5276-6184-46a2-a97f-8582d86166fc",
   "metadata": {},
   "outputs": [
    {
     "name": "stdout",
     "output_type": "stream",
     "text": [
      "The value of 10 squared is 100!\n"
     ]
    }
   ],
   "source": [
    "x = 10\n",
    "print(f\"The value of {x} squared is {x**2}!\")   #Note the f and the { } in the command. This is called f-string or string interpolation."
   ]
  },
  {
   "cell_type": "code",
   "execution_count": 40,
   "id": "22c3f632-1731-41ac-b4aa-2a423d4b1ce8",
   "metadata": {},
   "outputs": [
    {
     "name": "stdout",
     "output_type": "stream",
     "text": [
      "Bruce Wayne is Batman.\n"
     ]
    }
   ],
   "source": [
    "text = 'Bruce Wayne is Batman.'\n",
    "print(f'{text}')"
   ]
  },
  {
   "cell_type": "code",
   "execution_count": 41,
   "id": "26bc7723-f841-45d5-8063-72f8e8431ebf",
   "metadata": {},
   "outputs": [
    {
     "name": "stdout",
     "output_type": "stream",
     "text": [
      "        Bruce Wayne is Batman.\n"
     ]
    }
   ],
   "source": [
    "print(f'{text:>30}')      # A block of 30 characters;\n",
    "                          # aligned right"
   ]
  },
  {
   "cell_type": "code",
   "execution_count": 42,
   "id": "5a982676-1982-47bc-98fc-a32289c039d4",
   "metadata": {},
   "outputs": [
    {
     "name": "stdout",
     "output_type": "stream",
     "text": [
      "    Bruce Wayne is Batman.    \n"
     ]
    }
   ],
   "source": [
    "print(f'{text:^30}')      # A block of 30 characters;\n",
    "                          # aligned centre"
   ]
  },
  {
   "cell_type": "code",
   "execution_count": 43,
   "id": "94f3a403-4d07-43c6-993b-5417c4788a3c",
   "metadata": {},
   "outputs": [
    {
     "name": "stdout",
     "output_type": "stream",
     "text": [
      "Bruce Wayne is Batman.        \n"
     ]
    }
   ],
   "source": [
    "print(f'{text:<30}')      # A block of 30 characters;\n",
    "                          # aligned left"
   ]
  },
  {
   "cell_type": "code",
   "execution_count": 46,
   "id": "7265e8b1-abc2-4e8d-942d-33589638c9a3",
   "metadata": {},
   "outputs": [
    {
     "name": "stdout",
     "output_type": "stream",
     "text": [
      "The cube of pi to 6 decimal places is 31.006277\n"
     ]
    }
   ],
   "source": [
    "print(f'The cube of pi to 6 decimal places is {np.pi**3:.6f}')   \n",
    "#The f in .6f is used to tell the f-string to output the number in decimal notation.\n",
    "\n"
   ]
  },
  {
   "cell_type": "code",
   "execution_count": 47,
   "id": "57cae62e-43f5-46f9-82c5-92fee77737dd",
   "metadata": {},
   "outputs": [
    {
     "name": "stdout",
     "output_type": "stream",
     "text": [
      "The cube of pi to 6 decimal places is 3.100628e+01\n"
     ]
    }
   ],
   "source": [
    "print(f'The cube of pi to 6 decimal places is {np.pi**3:.6e}')\n",
    "#The e in .6e is used to tell the f-string to output the number in scientific notation"
   ]
  },
  {
   "attachments": {},
   "cell_type": "markdown",
   "id": "9bd36e0e",
   "metadata": {},
   "source": [
    "# Escape sequences"
   ]
  },
  {
   "cell_type": "markdown",
   "id": "361c0e24-2807-4789-ace7-f91843b90043",
   "metadata": {},
   "source": [
    "special characters we sometimes need when writing English. For example, to break a line and add a tab:"
   ]
  },
  {
   "cell_type": "code",
   "execution_count": 48,
   "id": "dae92838-891a-4d22-952c-fb9572ddf98b",
   "metadata": {},
   "outputs": [
    {
     "name": "stdout",
     "output_type": "stream",
     "text": [
      "Line 1\n",
      "\tLine 2\n",
      "\t\tLine 3\n"
     ]
    }
   ],
   "source": [
    "print('Line 1\\n\\tLine 2\\n\\t\\tLine 3')"
   ]
  },
  {
   "cell_type": "markdown",
   "id": "eb6da55e-863f-41b8-a229-ccf42a201190",
   "metadata": {},
   "source": [
    "Ref sp2273 website for the escape sequences"
   ]
  },
  {
   "cell_type": "code",
   "execution_count": 49,
   "id": "d831acdc-158c-469c-8a48-3e4361dfe4cd",
   "metadata": {},
   "outputs": [
    {
     "name": "stdout",
     "output_type": "stream",
     "text": [
      "You're twenty years old.\n"
     ]
    }
   ],
   "source": [
    "print('You\\'re twenty years old.') "
   ]
  },
  {
   "cell_type": "code",
   "execution_count": 50,
   "id": "219e6d11-bada-47f1-8976-a4e15178ee83",
   "metadata": {},
   "outputs": [
    {
     "name": "stdout",
     "output_type": "stream",
     "text": [
      "A\\B\\C\n"
     ]
    }
   ],
   "source": [
    "print('A\\\\B\\\\C')  #no linebreaks"
   ]
  },
  {
   "cell_type": "code",
   "execution_count": 53,
   "id": "e62e9b07-9c64-4020-8efe-89e74982b564",
   "metadata": {},
   "outputs": [
    {
     "name": "stdout",
     "output_type": "stream",
     "text": [
      "A\n",
      "B\n",
      "C\n"
     ]
    }
   ],
   "source": [
    "print('A\\nB\\nC')  #\\n causes the linebreak"
   ]
  },
  {
   "cell_type": "code",
   "execution_count": 52,
   "id": "1a587c17-c3da-41c0-be9f-b3f3b6db4f26",
   "metadata": {},
   "outputs": [
    {
     "name": "stdout",
     "output_type": "stream",
     "text": [
      "A\tB\tC\n"
     ]
    }
   ],
   "source": [
    "print('A\\tB\\tC')"
   ]
  },
  {
   "attachments": {},
   "cell_type": "markdown",
   "id": "cd855973",
   "metadata": {},
   "source": [
    "#  Computers read = from Right to Left!"
   ]
  },
  {
   "cell_type": "code",
   "execution_count": 54,
   "id": "a5719782-4236-4737-a8e7-0e81a679d3d7",
   "metadata": {},
   "outputs": [],
   "source": [
    "x = 40\n",
    "y = x + 2"
   ]
  },
  {
   "cell_type": "code",
   "execution_count": 55,
   "id": "40f8db98-aaa4-434d-ba42-b2c68918615b",
   "metadata": {},
   "outputs": [
    {
     "name": "stdout",
     "output_type": "stream",
     "text": [
      "42\n"
     ]
    }
   ],
   "source": [
    "y = 40\n",
    "y = y + 2\n",
    "print(y)"
   ]
  },
  {
   "cell_type": "markdown",
   "id": "01e4d3b5-6fa1-4139-9247-19611cfd563b",
   "metadata": {},
   "source": [
    "This syntax works and is commonly used as computers actually read the lines from right to left"
   ]
  },
  {
   "cell_type": "code",
   "execution_count": 56,
   "id": "8acee1e7-bf5f-456a-9617-57346d525697",
   "metadata": {},
   "outputs": [],
   "source": [
    "x = y = 10"
   ]
  },
  {
   "attachments": {},
   "cell_type": "markdown",
   "id": "7bf25d21",
   "metadata": {},
   "source": [
    "#  Shorter and Cleaner Code"
   ]
  },
  {
   "cell_type": "code",
   "execution_count": 57,
   "id": "b0788fdf-4db9-411b-a5af-132bf5a6b939",
   "metadata": {},
   "outputs": [
    {
     "data": {
      "text/plain": [
       "42"
      ]
     },
     "execution_count": 57,
     "metadata": {},
     "output_type": "execute_result"
    }
   ],
   "source": [
    "y = 40\n",
    "y = y + 2\n",
    "y"
   ]
  },
  {
   "cell_type": "code",
   "execution_count": 58,
   "id": "3c1cfe22-4f63-4ca6-a9a4-e0a1782a1407",
   "metadata": {},
   "outputs": [
    {
     "data": {
      "text/plain": [
       "42"
      ]
     },
     "execution_count": 58,
     "metadata": {},
     "output_type": "execute_result"
    }
   ],
   "source": [
    "y = 40\n",
    "y += 2    # Same as y = y + 2, python takes the old value and adds 2 to it\n",
    "y"
   ]
  },
  {
   "cell_type": "code",
   "execution_count": null,
   "id": "04cdce74-8fdf-4e12-9748-2190c04cca49",
   "metadata": {},
   "outputs": [],
   "source": [
    "Ref website for shorthands"
   ]
  },
  {
   "attachments": {},
   "cell_type": "markdown",
   "id": "c0a2ab1e",
   "metadata": {},
   "source": [
    "#  Python can be a prima-donna."
   ]
  },
  {
   "cell_type": "markdown",
   "id": "e2e4eead-11c7-4df4-a9c9-8e10a7e7271b",
   "metadata": {},
   "source": [
    "- When we do something python does not like, it will give us an error message\n",
    "- scroll to the end to see the real problem\n",
    "- Fixing such errors is called debugging"
   ]
  },
  {
   "attachments": {},
   "cell_type": "markdown",
   "id": "0deb6fdd",
   "metadata": {},
   "source": [
    "#  Best Practices for Scientific Computing"
   ]
  },
  {
   "cell_type": "markdown",
   "id": "166aedda-d4e0-41f4-a359-ac548444ce76",
   "metadata": {},
   "source": [
    "- Write programs for people to read, not computers\n",
    "- Optimise software only after it works correctly\n",
    "- Document design and purpose, not mechanics (explain what you're doing in comments for people to understand why you're doing that)\n",
    "- Collaborate"
   ]
  },
  {
   "attachments": {},
   "cell_type": "markdown",
   "id": "432c5260",
   "metadata": {},
   "source": [
    "#  Looking for help"
   ]
  },
  {
   "cell_type": "code",
   "execution_count": 59,
   "id": "64814cb7-4d1f-429b-9e8f-3cd3e2a085f1",
   "metadata": {},
   "outputs": [
    {
     "name": "stdout",
     "output_type": "stream",
     "text": [
      "Help on built-in function print in module builtins:\n",
      "\n",
      "print(*args, sep=' ', end='\\n', file=None, flush=False)\n",
      "    Prints the values to a stream, or to sys.stdout by default.\n",
      "    \n",
      "    sep\n",
      "      string inserted between values, default a space.\n",
      "    end\n",
      "      string appended after the last value, default a newline.\n",
      "    file\n",
      "      a file-like object (stream); defaults to the current sys.stdout.\n",
      "    flush\n",
      "      whether to forcibly flush the stream.\n",
      "\n"
     ]
    }
   ],
   "source": [
    "help(print)"
   ]
  }
 ],
 "metadata": {
  "kernelspec": {
   "display_name": "Python 3 (ipykernel)",
   "language": "python",
   "name": "python3"
  },
  "language_info": {
   "codemirror_mode": {
    "name": "ipython",
    "version": 3
   },
   "file_extension": ".py",
   "mimetype": "text/x-python",
   "name": "python",
   "nbconvert_exporter": "python",
   "pygments_lexer": "ipython3",
   "version": "3.11.5"
  },
  "toc": {
   "base_numbering": 1,
   "nav_menu": {},
   "number_sections": true,
   "sideBar": true,
   "skip_h1_title": false,
   "title_cell": "Table of Contents",
   "title_sidebar": "Contents",
   "toc_cell": false,
   "toc_position": {},
   "toc_section_display": true,
   "toc_window_display": false
  },
  "vscode": {
   "interpreter": {
    "hash": "31f2aee4e71d21fbe5cf8b01ff0e069b9275f58929596ceb00d14d90e3e16cd6"
   }
  }
 },
 "nbformat": 4,
 "nbformat_minor": 5
}
