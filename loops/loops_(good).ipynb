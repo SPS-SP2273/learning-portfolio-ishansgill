{
 "cells": [
  {
   "attachments": {},
   "cell_type": "markdown",
   "id": "123456",
   "metadata": {},
   "source": [
    "<div style=\"text-align:left;font-size:2em\"><span style=\"font-weight:bolder;font-size:1.25em\">SP2273 | Learning Portfolio</span><br><br><span style=\"font-weight:bold;color:darkred\">Loops (Good)</span></div>"
   ]
  },
  {
   "attachments": {},
   "cell_type": "markdown",
   "id": "c11ae0a5",
   "metadata": {},
   "source": [
    "# What to expect in this chapter"
   ]
  },
  {
   "attachments": {},
   "cell_type": "markdown",
   "id": "a3f28d04",
   "metadata": {},
   "source": [
    "#  Interrupting the flow"
   ]
  },
  {
   "cell_type": "markdown",
   "id": "9f2f8b57-4c47-4cea-bf53-92c1c881515e",
   "metadata": {},
   "source": [
    "There are many instances when you want to change the flow of a loop from within. The two commands, break and continue, allow us to do just that"
   ]
  },
  {
   "cell_type": "markdown",
   "id": "f17b219e-a5b8-44e3-9559-b08524e9c6fb",
   "metadata": {},
   "source": [
    "**Example 1**"
   ]
  },
  {
   "cell_type": "code",
   "execution_count": 5,
   "id": "24861676-a20c-4078-a1c0-238a8abe3386",
   "metadata": {},
   "outputs": [
    {
     "name": "stdout",
     "output_type": "stream",
     "text": [
      "0 1\n",
      "1 10\n",
      "2 100\n",
      "3 1000\n",
      "4 10000\n"
     ]
    }
   ],
   "source": [
    "for power in range(5):\n",
    "    number = 10**power\n",
    "    print(power, number)"
   ]
  },
  {
   "cell_type": "code",
   "execution_count": 1,
   "id": "184a8742-a989-402d-b2a2-01cb5fcd574a",
   "metadata": {},
   "outputs": [
    {
     "name": "stdout",
     "output_type": "stream",
     "text": [
      "0 1\n",
      "1 10\n",
      "2 100\n",
      "3 1000\n"
     ]
    }
   ],
   "source": [
    "for power in range(5):\n",
    "    number = 10**power\n",
    "    if number > 5000:\n",
    "        break\n",
    "    print(power, number)"
   ]
  },
  {
   "cell_type": "markdown",
   "id": "eafb5d16-12cc-45e1-9542-5f5385e2de57",
   "metadata": {},
   "source": [
    "We use break to break-out of the loop and terminate it.\r\n",
    "We typically use it with if so that we break out if a certain condition is met.\r\n",
    "This will also work with *a whi*le loop."
   ]
  },
  {
   "cell_type": "markdown",
   "id": "67960624-f13b-4f7e-b598-235fd0d64fb9",
   "metadata": {},
   "source": [
    "**Example 2**"
   ]
  },
  {
   "cell_type": "code",
   "execution_count": 3,
   "id": "d117945d-4bda-47cf-a1c2-7c2000be29e1",
   "metadata": {},
   "outputs": [
    {
     "name": "stdout",
     "output_type": "stream",
     "text": [
      "0 1\n",
      "1 10\n",
      "2 100\n",
      "4 10000\n"
     ]
    }
   ],
   "source": [
    "for power in range(5):\n",
    "    if power == 3:\n",
    "        continue        # Don't proceed further\n",
    "                        # IN THE CURRENT LOOP\n",
    "                        # if i == 3\n",
    "    number = 10**power\n",
    "    print(power, number)"
   ]
  },
  {
   "cell_type": "markdown",
   "id": "e9ef8563-da40-4074-8974-8ca037e9877b",
   "metadata": {},
   "source": [
    "Sometimes we want to skip an iteration and just move on to the next. continue allows us to do this by skipping everything after it.\n",
    "Notice how there is no printout for power = 3.\n",
    "continue too is typically used with if.\n",
    "This will also work with a *while* loop."
   ]
  },
  {
   "cell_type": "markdown",
   "id": "efdb2042-4707-4a19-aa8b-6b9c5d301e3a",
   "metadata": {},
   "source": [
    "**Example 3**"
   ]
  },
  {
   "cell_type": "code",
   "execution_count": 7,
   "id": "5e21e3a3-6f4f-4852-8ad0-64187387b919",
   "metadata": {},
   "outputs": [
    {
     "name": "stdout",
     "output_type": "stream",
     "text": [
      "0\n",
      "1\n",
      "2\n",
      "3\n",
      "4\n",
      "5\n",
      "6\n",
      "7\n",
      "8\n",
      "9\n"
     ]
    }
   ],
   "source": [
    "for number in range(10):\n",
    "    print(number)"
   ]
  },
  {
   "cell_type": "code",
   "execution_count": 1,
   "id": "7879d12a-9515-4c39-9622-5da2d980ebb4",
   "metadata": {},
   "outputs": [
    {
     "name": "stdout",
     "output_type": "stream",
     "text": [
      "1\n",
      "3\n",
      "5\n",
      "7\n",
      "9\n"
     ]
    }
   ],
   "source": [
    "for number in range(10):\n",
    "    # Don't proceed if the remainder is zero\n",
    "    # I.e. if the number is even\n",
    "    if number % 2 == 0:\n",
    "        continue\n",
    "    print(number)"
   ]
  },
  {
   "cell_type": "markdown",
   "id": "791d1fa8-f340-43e3-bed1-fa2adedd2d31",
   "metadata": {},
   "source": [
    "**Example 4**"
   ]
  },
  {
   "cell_type": "code",
   "execution_count": 2,
   "id": "6a3d10dd-b2f1-417e-b09c-b39bef461140",
   "metadata": {},
   "outputs": [
    {
     "name": "stdout",
     "output_type": "stream",
     "text": [
      "0\n",
      "1\n",
      "2\n",
      "3\n",
      "4\n",
      "5\n",
      "6\n",
      "7\n",
      "8\n",
      "9\n"
     ]
    }
   ],
   "source": [
    "number=0\n",
    "while number < 10:\n",
    "    print(number)\n",
    "    number +=1"
   ]
  },
  {
   "cell_type": "code",
   "execution_count": 3,
   "id": "5f721f4c-a43e-4f72-8694-25ed88d90250",
   "metadata": {},
   "outputs": [
    {
     "name": "stdout",
     "output_type": "stream",
     "text": [
      "0\n",
      "1\n",
      "2\n",
      "3\n",
      "4\n"
     ]
    }
   ],
   "source": [
    "number=0\n",
    "\n",
    "while True:\n",
    "    print(number)\n",
    "    number += 1\n",
    "    if number > 4: break"
   ]
  },
  {
   "cell_type": "markdown",
   "id": "bc38a1c2-fd8f-4829-9fd4-ea4dbf2f48dc",
   "metadata": {},
   "source": [
    "Let me redo the while example from the past chapter using break.\n",
    "Notice that I setup the loop to run forever and use break to stop it.\n",
    "Remember you can use break and continue (with impunity) to interrupt the flow of loops."
   ]
  },
  {
   "attachments": {},
   "cell_type": "markdown",
   "id": "d3610153",
   "metadata": {},
   "source": [
    "# List comprehension!"
   ]
  },
  {
   "attachments": {},
   "cell_type": "markdown",
   "id": "87436efc",
   "metadata": {},
   "source": [
    "##  Basic syntax"
   ]
  },
  {
   "cell_type": "code",
   "execution_count": 11,
   "id": "d20e2d95-95e6-4b6a-87f8-9564040f0335",
   "metadata": {},
   "outputs": [
    {
     "name": "stdout",
     "output_type": "stream",
     "text": [
      "0\n",
      "1\n",
      "2\n",
      "3\n",
      "4\n"
     ]
    }
   ],
   "source": [
    "for number in range(5):\n",
    "    print(number)"
   ]
  },
  {
   "cell_type": "code",
   "execution_count": 13,
   "id": "1eaeec05-7464-4727-9c18-d30e5cefb75d",
   "metadata": {},
   "outputs": [
    {
     "data": {
      "text/plain": [
       "[0, 1, 2, 3, 4]"
      ]
     },
     "execution_count": 13,
     "metadata": {},
     "output_type": "execute_result"
    }
   ],
   "source": [
    "[number for number in range(5)]   #creates a list with the numbers"
   ]
  },
  {
   "cell_type": "code",
   "execution_count": 14,
   "id": "113451be-3b78-4bff-a174-b25c8af0a265",
   "metadata": {},
   "outputs": [
    {
     "data": {
      "text/plain": [
       "[0, 1, 4, 9, 16]"
      ]
     },
     "execution_count": 14,
     "metadata": {},
     "output_type": "execute_result"
    }
   ],
   "source": [
    "[number**2 for number in range(5)]  #creates a list of squares"
   ]
  },
  {
   "attachments": {},
   "cell_type": "markdown",
   "id": "9248489a",
   "metadata": {},
   "source": [
    "##  List comprehension with conditions"
   ]
  },
  {
   "cell_type": "code",
   "execution_count": 16,
   "id": "1418fbdc-24b4-4520-b20b-978afd50d1a4",
   "metadata": {},
   "outputs": [
    {
     "data": {
      "text/plain": [
       "[0, 2, 4, 6, 8]"
      ]
     },
     "execution_count": 16,
     "metadata": {},
     "output_type": "execute_result"
    }
   ],
   "source": [
    "[number for number in range(10) if number % 2 ==0]  #allows us to specify a condition, even numbers in this case"
   ]
  },
  {
   "cell_type": "code",
   "execution_count": 24,
   "id": "62cb81a7-4b35-4eae-b7bf-dd6fe5d14857",
   "metadata": {},
   "outputs": [
    {
     "data": {
      "text/plain": [
       "[0, 1, 4, 9, 16, 25, 36, 49, 64, 81]"
      ]
     },
     "execution_count": 24,
     "metadata": {},
     "output_type": "execute_result"
    }
   ],
   "source": [
    "[number**2 for number in range(10)]"
   ]
  },
  {
   "cell_type": "code",
   "execution_count": 25,
   "id": "c9491771-35d3-4d57-9ffb-27a04c6b9a74",
   "metadata": {},
   "outputs": [
    {
     "data": {
      "text/plain": [
       "[0, 4, 16, 36, 64]"
      ]
     },
     "execution_count": 25,
     "metadata": {},
     "output_type": "execute_result"
    }
   ],
   "source": [
    "[number**2 for number in range(10) if number %2==0]"
   ]
  },
  {
   "attachments": {},
   "cell_type": "markdown",
   "id": "a830fbd2",
   "metadata": {},
   "source": [
    "#  Other useful stuff"
   ]
  },
  {
   "attachments": {},
   "cell_type": "markdown",
   "id": "fdf172a0",
   "metadata": {},
   "source": [
    "##  for with unpacking"
   ]
  },
  {
   "cell_type": "code",
   "execution_count": 26,
   "id": "3da9ea15-b7ba-4074-820c-7202e677eb50",
   "metadata": {},
   "outputs": [
    {
     "name": "stdout",
     "output_type": "stream",
     "text": [
      "x = 1, y = 2, z = 3\n"
     ]
    }
   ],
   "source": [
    "x, y, z=[1, 2, 3]\n",
    "print(f'x = {x}, y = {y}, z = {z}')"
   ]
  },
  {
   "cell_type": "markdown",
   "id": "711de01c-13df-451c-9bae-9377fc2d1bbb",
   "metadata": {},
   "source": [
    "Unpacking can be put to good use (for example) when we are dealing with 2D list. We can combine unpacking with a for loop to extract elements as follows:"
   ]
  },
  {
   "cell_type": "code",
   "execution_count": 31,
   "id": "b35f4f65-8776-498a-8cfa-9b8e24551726",
   "metadata": {},
   "outputs": [
    {
     "name": "stdout",
     "output_type": "stream",
     "text": [
      "Bruce Wayne is DC's Batman!\n",
      "Clark Kent is DC's Superman!\n",
      "Barry Allen is DC's Flash!\n"
     ]
    }
   ],
   "source": [
    "py_superhero_info = [['Bruce Wayne', 'Batman'],\n",
    "                     ['Clark Kent', 'Superman'],\n",
    "                     ['Barry Allen', 'Flash']]\n",
    "\n",
    "for real_name, super_name in py_superhero_info:\n",
    "    print(f\"{real_name} is DC's {super_name}!\")"
   ]
  },
  {
   "attachments": {},
   "cell_type": "markdown",
   "id": "ff89d27c",
   "metadata": {},
   "source": [
    "##  for with zip()"
   ]
  },
  {
   "cell_type": "code",
   "execution_count": 32,
   "id": "ad95f2e6-6f7e-446a-8064-fbed59b27f72",
   "metadata": {},
   "outputs": [
    {
     "name": "stdout",
     "output_type": "stream",
     "text": [
      "Natasha Romanoff is Marvel's Black Widow!\n",
      "Tony Stark is Marvel's Iron Man!\n",
      "Stephen Strange is Marvel's Doctor Strange!\n"
     ]
    }
   ],
   "source": [
    "super_names = [\"Black Widow\", \"Iron Man\", \"Doctor Strange\"]\n",
    "real_names = [\"Natasha Romanoff\", \"Tony Stark\", \"Stephen Strange\"]\n",
    "\n",
    "for real_name, super_name in zip(real_names,super_names):\n",
    "    print(f\"{real_name} is Marvel's {super_name}!\")"
   ]
  },
  {
   "cell_type": "markdown",
   "id": "188bedab-8dcc-4d07-8da0-dba42f1f7391",
   "metadata": {},
   "source": [
    "zip() can be used to combine 2 lists"
   ]
  },
  {
   "attachments": {},
   "cell_type": "markdown",
   "id": "2ae4bd39",
   "metadata": {},
   "source": [
    "##  for with dictionaries"
   ]
  },
  {
   "cell_type": "code",
   "execution_count": 33,
   "id": "a950f98a-0493-4543-9b6c-765ba50fa3bb",
   "metadata": {},
   "outputs": [
    {
     "name": "stdout",
     "output_type": "stream",
     "text": [
      "Natasha Romanoff is Marvel's Black Widow!\n",
      "Tony Stark is Marvel's Iron Man!\n",
      "Stephen Strange is Marvel's Doctor Strange!\n"
     ]
    }
   ],
   "source": [
    "superhero_info={\"Natasha Romanoff\": \"Black Widow\",\n",
    "                \"Tony Stark\": \"Iron Man\",\n",
    "                \"Stephen Strange\": \"Doctor Strange\"}\n",
    "\n",
    "for key, value in superhero_info.items():\n",
    "    print(f\"{key} is Marvel's {value}!\")"
   ]
  },
  {
   "cell_type": "markdown",
   "id": "ce750e64-bb6d-47fe-bbbf-08160586a96e",
   "metadata": {},
   "source": [
    "The ‘hidden’ function items() spits out both the key and the corresponding value"
   ]
  },
  {
   "cell_type": "code",
   "execution_count": 34,
   "id": "16514800-9145-4e8f-84c2-07fbe251d4ec",
   "metadata": {},
   "outputs": [
    {
     "name": "stdout",
     "output_type": "stream",
     "text": [
      "Natasha Romanoff is Marvel's Black Widow!\n",
      "Tony Stark is Marvel's Iron Man!\n",
      "Stephen Strange is Marvel's Doctor Strange!\n"
     ]
    }
   ],
   "source": [
    "for key in superhero_info.keys():   #directly accesses keys\n",
    "    value=superhero_info[key]\n",
    "    print(f\"{key} is Marvel's {value}!\")"
   ]
  },
  {
   "cell_type": "markdown",
   "id": "cb624561-bef8-4943-986f-9701bd919a63",
   "metadata": {},
   "source": [
    "variable names **key** and **value** are used to highlight their roles in the dictionary"
   ]
  }
 ],
 "metadata": {
  "kernelspec": {
   "display_name": "Python 3 (ipykernel)",
   "language": "python",
   "name": "python3"
  },
  "language_info": {
   "codemirror_mode": {
    "name": "ipython",
    "version": 3
   },
   "file_extension": ".py",
   "mimetype": "text/x-python",
   "name": "python",
   "nbconvert_exporter": "python",
   "pygments_lexer": "ipython3",
   "version": "3.11.5"
  },
  "toc": {
   "base_numbering": 1,
   "nav_menu": {},
   "number_sections": true,
   "sideBar": true,
   "skip_h1_title": false,
   "title_cell": "Table of Contents",
   "title_sidebar": "Contents",
   "toc_cell": false,
   "toc_position": {},
   "toc_section_display": true,
   "toc_window_display": false
  },
  "vscode": {
   "interpreter": {
    "hash": "31f2aee4e71d21fbe5cf8b01ff0e069b9275f58929596ceb00d14d90e3e16cd6"
   }
  }
 },
 "nbformat": 4,
 "nbformat_minor": 5
}
