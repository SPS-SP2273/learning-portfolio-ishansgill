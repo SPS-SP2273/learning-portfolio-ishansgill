{
 "cells": [
  {
   "attachments": {},
   "cell_type": "markdown",
   "id": "123456",
   "metadata": {},
   "source": [
    "<div style=\"text-align:left;font-size:2em\"><span style=\"font-weight:bolder;font-size:1.25em\">SP2273 | Learning Portfolio</span><br><br><span style=\"font-weight:bold;color:darkred\">Storing Data (Good) Exercises</span></div>"
   ]
  },
  {
   "cell_type": "code",
   "execution_count": 2,
   "id": "f2448d90-f11d-41aa-8b03-0fd50edb1320",
   "metadata": {},
   "outputs": [],
   "source": [
    "import numpy as np"
   ]
  },
  {
   "cell_type": "markdown",
   "id": "508cd3b3-718b-4bc0-bb1e-5e18db64c95f",
   "metadata": {},
   "source": [
    "**Exercise 1**"
   ]
  },
  {
   "cell_type": "markdown",
   "id": "bd891a0e-016f-49aa-9047-8d82a0fad726",
   "metadata": {},
   "source": [
    "| Term       | Brief Description                                  |\r\n",
    "|------------|----------------------------------------------------|\r\n",
    "| Subsetting | Means to select                                    |\r\n",
    "| Indexing   | Selecting one element                              |\r\n",
    "| Slicing    | Selecting a range of elements                      |\r\n",
    "| Masking    | \"masks out\" elements based on specified conditions |"
   ]
  },
  {
   "cell_type": "markdown",
   "id": "d2bd598f-ece8-4269-ab66-0d50458f50fa",
   "metadata": {},
   "source": [
    "**Exercise 2**"
   ]
  },
  {
   "cell_type": "code",
   "execution_count": 3,
   "id": "0818a424-4037-4e6b-a9b6-a77a87950944",
   "metadata": {},
   "outputs": [],
   "source": [
    "np_array_2d = np.array([[1, \"A\"], [3, \"C\"], [2, \"B\"], [4, \"D\"],\n",
    "                        [5, \"E\"], [7, \"G\"], [6, \"F\"], [8, \"H\"],\n",
    "                        [10, \"J\"], [9, \"I\"]])"
   ]
  },
  {
   "cell_type": "code",
   "execution_count": 7,
   "id": "30aefdea-4e5c-4add-ba89-1ba6ba225b4c",
   "metadata": {},
   "outputs": [
    {
     "name": "stdout",
     "output_type": "stream",
     "text": [
      "['1' '3' '2' '4' '5' '7' '6' '8' '10' '9']\n"
     ]
    }
   ],
   "source": [
    "x=np_array_2d\n",
    "print(x[:, 0])"
   ]
  },
  {
   "cell_type": "code",
   "execution_count": 11,
   "id": "a95eb3bd-fc05-483b-a4ad-6cfdaa5186a7",
   "metadata": {},
   "outputs": [
    {
     "name": "stdout",
     "output_type": "stream",
     "text": [
      "[ 1  3  2  4  5  7  6  8 10  9]\n"
     ]
    }
   ],
   "source": [
    "print(x[:, 0].astype(int))"
   ]
  },
  {
   "cell_type": "code",
   "execution_count": 12,
   "id": "07b971c0-0ee2-4e7c-9d00-086e96cabeb7",
   "metadata": {},
   "outputs": [],
   "source": [
    "numbers = (x[:, 0].astype(int))"
   ]
  },
  {
   "cell_type": "code",
   "execution_count": 13,
   "id": "0725d4f3-1ea9-4ce5-9b84-4ea0fb04e28d",
   "metadata": {},
   "outputs": [],
   "source": [
    "remainder = numbers % 2"
   ]
  },
  {
   "cell_type": "code",
   "execution_count": 14,
   "id": "21112e3a-dbc5-4a16-bc65-4a03061076bb",
   "metadata": {},
   "outputs": [
    {
     "name": "stdout",
     "output_type": "stream",
     "text": [
      "[1 1 0 0 1 1 0 0 0 1]\n"
     ]
    }
   ],
   "source": [
    "print(remainder)"
   ]
  },
  {
   "cell_type": "code",
   "execution_count": 15,
   "id": "ae6ebc46-bbec-4926-8866-3444b8f0b7c0",
   "metadata": {},
   "outputs": [],
   "source": [
    "mask = remainder !=0"
   ]
  },
  {
   "cell_type": "code",
   "execution_count": 16,
   "id": "fafa245f-55d1-40b1-9e08-fbdba2728cb4",
   "metadata": {},
   "outputs": [
    {
     "name": "stdout",
     "output_type": "stream",
     "text": [
      "[ True  True False False  True  True False False False  True]\n"
     ]
    }
   ],
   "source": [
    "print(mask)"
   ]
  },
  {
   "cell_type": "code",
   "execution_count": 17,
   "id": "d37cf997-6031-4bd5-80b0-c20a3d465d34",
   "metadata": {},
   "outputs": [],
   "source": [
    "answer = np_array_2d[mask, 1]"
   ]
  },
  {
   "cell_type": "code",
   "execution_count": 18,
   "id": "7532be0d-376f-49a7-aef5-36cd709334eb",
   "metadata": {},
   "outputs": [
    {
     "name": "stdout",
     "output_type": "stream",
     "text": [
      "['A' 'C' 'E' 'G' 'I']\n"
     ]
    }
   ],
   "source": [
    "print(answer)"
   ]
  }
 ],
 "metadata": {
  "kernelspec": {
   "display_name": "Python 3 (ipykernel)",
   "language": "python",
   "name": "python3"
  },
  "language_info": {
   "codemirror_mode": {
    "name": "ipython",
    "version": 3
   },
   "file_extension": ".py",
   "mimetype": "text/x-python",
   "name": "python",
   "nbconvert_exporter": "python",
   "pygments_lexer": "ipython3",
   "version": "3.11.5"
  },
  "toc": {
   "base_numbering": 1,
   "nav_menu": {},
   "number_sections": true,
   "sideBar": true,
   "skip_h1_title": false,
   "title_cell": "Table of Contents",
   "title_sidebar": "Contents",
   "toc_cell": false,
   "toc_position": {},
   "toc_section_display": true,
   "toc_window_display": false
  },
  "vscode": {
   "interpreter": {
    "hash": "31f2aee4e71d21fbe5cf8b01ff0e069b9275f58929596ceb00d14d90e3e16cd6"
   }
  }
 },
 "nbformat": 4,
 "nbformat_minor": 5
}
