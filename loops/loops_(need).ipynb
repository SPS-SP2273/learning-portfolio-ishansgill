{
 "cells": [
  {
   "attachments": {},
   "cell_type": "markdown",
   "id": "123456",
   "metadata": {},
   "source": [
    "<div style=\"text-align:left;font-size:2em\"><span style=\"font-weight:bolder;font-size:1.25em\">SP2273 | Learning Portfolio</span><br><br><span style=\"font-weight:bold;color:darkred\">Loops (Need)</span></div>"
   ]
  },
  {
   "attachments": {},
   "cell_type": "markdown",
   "id": "b43430a3",
   "metadata": {},
   "source": [
    "# What to expect in this chapter"
   ]
  },
  {
   "attachments": {},
   "cell_type": "markdown",
   "id": "1bea9634",
   "metadata": {},
   "source": [
    "# 1 The for iterator"
   ]
  },
  {
   "cell_type": "code",
   "execution_count": 1,
   "id": "991e0ad9-134a-499f-b1d2-44d36e0ae16a",
   "metadata": {},
   "outputs": [],
   "source": [
    "real_names = [\"Natasha Romanoff\", \"Tony Stark\", \"Stephen Strange\"]"
   ]
  },
  {
   "cell_type": "code",
   "execution_count": 2,
   "id": "60347338-c495-4abf-a443-3291fdc7359c",
   "metadata": {},
   "outputs": [
    {
     "name": "stdout",
     "output_type": "stream",
     "text": [
      "Natasha Romanoff is a Marvel superhero!\n",
      "Tony Stark is a Marvel superhero!\n",
      "Stephen Strange is a Marvel superhero!\n"
     ]
    }
   ],
   "source": [
    "name=real_names[0]\n",
    "print(f\"{name} is a Marvel superhero!\")\n",
    "\n",
    "name=real_names[1]\n",
    "print(f\"{name} is a Marvel superhero!\")\n",
    "\n",
    "name=real_names[2]\n",
    "print(f\"{name} is a Marvel superhero!\")"
   ]
  },
  {
   "cell_type": "markdown",
   "id": "67621a19-8003-43b8-9d76-308bdb6c74dc",
   "metadata": {},
   "source": [
    "Poor way of doing it as \n",
    "\n",
    "- it does not scale very well (imagine if you have a 100 names!),\n",
    "- it is cumbersome to make changes, you have to do it three times.\n",
    "- it is highly error prone, since you need to type something new (even if you are copying and pasting most of it).)."
   ]
  },
  {
   "attachments": {},
   "cell_type": "markdown",
   "id": "dcb0ef29",
   "metadata": {},
   "source": [
    "##  for with a list"
   ]
  },
  {
   "cell_type": "code",
   "execution_count": 3,
   "id": "c2d30375-b9b7-4074-b53f-55da14b139a5",
   "metadata": {},
   "outputs": [
    {
     "name": "stdout",
     "output_type": "stream",
     "text": [
      "Natasha Romanoff is a Marvel superhero!\n",
      "Tony Stark is a Marvel superhero!\n",
      "Stephen Strange is a Marvel superhero!\n"
     ]
    }
   ],
   "source": [
    "for name in real_names:\n",
    "    print(f\"{name} is a Marvel superhero!\")"
   ]
  },
  {
   "cell_type": "markdown",
   "id": "9ebe1121-411b-4575-b8d8-dd291bda47f1",
   "metadata": {},
   "source": [
    "Notice the structure of the for loop;\n",
    "\n",
    "- it goes through the list and assigns name the value of each element of the list.\n",
    "- it then runs the code-block using this value of name.\n",
    "- the code block is deginted by using : and tabs like with if."
   ]
  },
  {
   "attachments": {},
   "cell_type": "markdown",
   "id": "c1cdcdbc",
   "metadata": {},
   "source": [
    "##  for with enumerate"
   ]
  },
  {
   "cell_type": "code",
   "execution_count": 4,
   "id": "2ec96d5a-7df6-439b-ba4c-132948ca5628",
   "metadata": {},
   "outputs": [],
   "source": [
    "super_names = [\"Black Widow\", \"Iron Man\", \"Doctor Strange\"]\n",
    "real_names = [\"Natasha Romanoff\", \"Tony Stark\", \"Stephen Strange\"]"
   ]
  },
  {
   "cell_type": "markdown",
   "id": "2baf41cf-1a0a-4f20-b48b-264e8f926a19",
   "metadata": {},
   "source": [
    "Since the for loop only accepts one list, we need to do something else to access the data in both lists. One option is to use enumerate()"
   ]
  },
  {
   "cell_type": "code",
   "execution_count": 5,
   "id": "169e19c9-8b41-4bcc-8ebd-3505dd9a9e37",
   "metadata": {},
   "outputs": [
    {
     "name": "stdout",
     "output_type": "stream",
     "text": [
      "0: Natasha Romanoff is a Marvel superhero!\n",
      "1: Tony Stark is a Marvel superhero!\n",
      "2: Stephen Strange is a Marvel superhero!\n"
     ]
    }
   ],
   "source": [
    "for count, name in enumerate(real_names):\n",
    "    print(f'{count}: {name} is a Marvel superhero!')"
   ]
  },
  {
   "cell_type": "markdown",
   "id": "d95d6135-d88d-4474-af65-b6a716174c24",
   "metadata": {},
   "source": [
    "You can think of enumerate() as something that keeps count. In the above example, enumerate() not only gives the elements of the list, it also gives you a number (that is stored in count)"
   ]
  },
  {
   "cell_type": "code",
   "execution_count": 6,
   "id": "b4692f0a-34fe-4079-92e7-0cfa566d4645",
   "metadata": {},
   "outputs": [
    {
     "name": "stdout",
     "output_type": "stream",
     "text": [
      "Natasha Romanoff is Black Widow!\n",
      "Tony Stark is Iron Man!\n",
      "Stephen Strange is Doctor Strange!\n"
     ]
    }
   ],
   "source": [
    "for index, name in enumerate(real_names):\n",
    "    superhero_name = super_names[index]\n",
    "    print(f'{name} is {superhero_name}!')"
   ]
  },
  {
   "cell_type": "markdown",
   "id": "1116f4ea-746c-4248-b2f5-5ca004ba829b",
   "metadata": {},
   "source": [
    "**For can be combined with enumerate() to count while looping through a list.**"
   ]
  },
  {
   "attachments": {},
   "cell_type": "markdown",
   "id": "440d21ed",
   "metadata": {},
   "source": [
    "##  for with range"
   ]
  },
  {
   "cell_type": "markdown",
   "id": "44751693-bd55-4fc8-a3b6-25f8066e0240",
   "metadata": {},
   "source": [
    "Another way to achieve the result above is by using the function range()"
   ]
  },
  {
   "cell_type": "markdown",
   "id": "847776f2-bed6-44dd-a940-54261fcb6a6f",
   "metadata": {},
   "source": [
    "**Example 1**"
   ]
  },
  {
   "cell_type": "code",
   "execution_count": 12,
   "id": "3e96db10-bd0e-4715-b615-76d8a44ba86b",
   "metadata": {},
   "outputs": [
    {
     "name": "stdout",
     "output_type": "stream",
     "text": [
      "0\n",
      "1\n",
      "2\n",
      "3\n",
      "4\n"
     ]
    }
   ],
   "source": [
    "for i in range(5):    #We can use range() to get the for loop to run a given number of loops (5 in this example)\n",
    "    print(i)"
   ]
  },
  {
   "cell_type": "markdown",
   "id": "888b8577-ccf7-4c65-b348-58d4e523e61a",
   "metadata": {},
   "source": [
    "**Example 2**"
   ]
  },
  {
   "cell_type": "code",
   "execution_count": 10,
   "id": "4eb6e6a6-f3f4-46b7-bcd5-3fa504527d4a",
   "metadata": {},
   "outputs": [
    {
     "name": "stdout",
     "output_type": "stream",
     "text": [
      "5\n",
      "6\n",
      "7\n",
      "8\n",
      "9\n"
     ]
    }
   ],
   "source": [
    "for i in range(5, 10):  #we can tailor our starting and ending values\n",
    "    print(i)"
   ]
  },
  {
   "cell_type": "markdown",
   "id": "ee29f9e7-2120-4428-8802-1d62d6850455",
   "metadata": {},
   "source": [
    "**Example 3**"
   ]
  },
  {
   "cell_type": "code",
   "execution_count": 14,
   "id": "ebbc787b-dfad-4bf2-8a35-9927db9469a2",
   "metadata": {},
   "outputs": [
    {
     "name": "stdout",
     "output_type": "stream",
     "text": [
      "1\n",
      "4\n",
      "7\n"
     ]
    }
   ],
   "source": [
    "for i in range(1, 10, 3):   #adjusting step size\n",
    "    print(i)"
   ]
  },
  {
   "cell_type": "markdown",
   "id": "6020fde2-4b7e-4d92-ae59-002829d66e8b",
   "metadata": {},
   "source": [
    "- Functions like range() and enumerate() only work with looping structures.\n",
    "- Range() always ends one short of the ending number."
   ]
  },
  {
   "cell_type": "code",
   "execution_count": 15,
   "id": "64908379-1f03-48ee-a05b-6a2b9c98c9c6",
   "metadata": {},
   "outputs": [
    {
     "name": "stdout",
     "output_type": "stream",
     "text": [
      "Natasha Romanoff is Marvel's Black Widow!\n",
      "Tony Stark is Marvel's Iron Man!\n",
      "Stephen Strange is Marvel's Doctor Strange!\n"
     ]
    }
   ],
   "source": [
    "for i in range(len(real_names)):\n",
    "    real_name = real_names[i]\n",
    "    super_name = super_names[i]        \n",
    "    print(f\"{real_name} is Marvel's {super_name}!\")"
   ]
  },
  {
   "attachments": {},
   "cell_type": "markdown",
   "id": "e42cdbc8",
   "metadata": {},
   "source": [
    "#  While"
   ]
  },
  {
   "cell_type": "markdown",
   "id": "ed3a98ce-81b9-4c25-ba75-7ab1f9839c2c",
   "metadata": {},
   "source": [
    "- A while loop is set up so that it keeps on running while a condition is True. So the while loop checks the condition at the start and begins another loop if it is True.\n",
    "\n",
    "- In the adjoining example the loop keeps on going while the number is less than 5.\n",
    "\n",
    "- A useful feature of the while loop is that you do not need to know beforehand how many iterations are needed."
   ]
  },
  {
   "cell_type": "code",
   "execution_count": 16,
   "id": "85283678-7885-4e9d-b6bf-00380085d342",
   "metadata": {},
   "outputs": [
    {
     "name": "stdout",
     "output_type": "stream",
     "text": [
      "0\n",
      "1\n",
      "2\n",
      "3\n",
      "4\n"
     ]
    }
   ],
   "source": [
    "number = 0\n",
    "\n",
    "while number < 5:\n",
    "    print(number)\n",
    "    number += 1"
   ]
  }
 ],
 "metadata": {
  "kernelspec": {
   "display_name": "Python 3 (ipykernel)",
   "language": "python",
   "name": "python3"
  },
  "language_info": {
   "codemirror_mode": {
    "name": "ipython",
    "version": 3
   },
   "file_extension": ".py",
   "mimetype": "text/x-python",
   "name": "python",
   "nbconvert_exporter": "python",
   "pygments_lexer": "ipython3",
   "version": "3.11.5"
  },
  "toc": {
   "base_numbering": 1,
   "nav_menu": {},
   "number_sections": true,
   "sideBar": true,
   "skip_h1_title": false,
   "title_cell": "Table of Contents",
   "title_sidebar": "Contents",
   "toc_cell": false,
   "toc_position": {},
   "toc_section_display": true,
   "toc_window_display": false
  },
  "vscode": {
   "interpreter": {
    "hash": "31f2aee4e71d21fbe5cf8b01ff0e069b9275f58929596ceb00d14d90e3e16cd6"
   }
  }
 },
 "nbformat": 4,
 "nbformat_minor": 5
}
