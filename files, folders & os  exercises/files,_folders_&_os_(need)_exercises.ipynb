{
 "cells": [
  {
   "attachments": {},
   "cell_type": "markdown",
   "id": "123456",
   "metadata": {},
   "source": [
    "<div style=\"text-align:left;font-size:2em\"><span style=\"font-weight:bolder;font-size:1.25em\">SP2273 | Learning Portfolio</span><br><br><span style=\"font-weight:bold;color:darkred\">Files, Folders & OS (Need) Exercises</span></div>"
   ]
  },
  {
   "cell_type": "code",
   "execution_count": 4,
   "id": "29788189-36ed-412b-8d87-f2dc10e75544",
   "metadata": {},
   "outputs": [],
   "source": [
    "import os\n",
    "import glob\n",
    "import shutil"
   ]
  },
  {
   "cell_type": "markdown",
   "id": "11ba9b04-b5ef-4b49-9d72-e189a824d521",
   "metadata": {},
   "source": [
    "**Task 1**"
   ]
  },
  {
   "cell_type": "code",
   "execution_count": 25,
   "id": "dead1283-6120-45ea-90e0-7374e451639c",
   "metadata": {},
   "outputs": [
    {
     "name": "stdout",
     "output_type": "stream",
     "text": [
      "10-08_singapore.txt\n"
     ]
    }
   ],
   "source": [
    "month_mapping = {\n",
    "    'jan': '01', 'feb': '02', 'mar': '03',\n",
    "    'apr': '04', 'may': '05', 'jun': '06',\n",
    "    'jul': '07', 'aug': '08', 'sep': '09',\n",
    "    'oct': '10', 'nov': '11', 'dec': '12'\n",
    "}\n",
    "\n",
    "path ='\\os-collaboration-exercise-data\\oct-08_singapore.txt'\n",
    "file = path.split(os.path.sep)[-1]\n",
    "back_name = file.split('-')[-1]\n",
    "month = file.split('-')[0]\n",
    "month_number = month_mapping[month]\n",
    "corrected_file = f'{month_number}-{back_name}'\n",
    "print(corrected_file)"
   ]
  },
  {
   "cell_type": "markdown",
   "id": "a6153cc4-f68a-4775-819c-4e87295cf963",
   "metadata": {},
   "source": [
    "**Task 2**"
   ]
  },
  {
   "cell_type": "code",
   "execution_count": 15,
   "id": "94f38211-2b39-4e1e-8179-1ef8fdbac5bd",
   "metadata": {},
   "outputs": [],
   "source": [
    "def rename_my_file (old_file_name):\n",
    "    month_mapping = {\n",
    "    'jan': '01', 'feb': '02', 'mar': '03',\n",
    "    'apr': '04', 'may': '05', 'jun': '06',\n",
    "    'jul': '07', 'aug': '08', 'sep': '09',\n",
    "    'oct': '10', 'nov': '11', 'dec': '12'\n",
    "}\n",
    "    back_name = old_file_name.split('-')[-1]\n",
    "    month = old_file_name.split('-')[0]\n",
    "    month_number = month_mapping[month]\n",
    "    corrected_file = f'{month_number}-{back_name}'\n",
    "    return corrected_file"
   ]
  },
  {
   "cell_type": "code",
   "execution_count": 16,
   "id": "3e6c0f88-7504-456a-b836-00a10ba5d583",
   "metadata": {},
   "outputs": [
    {
     "data": {
      "text/plain": [
       "'05-01_melbourne.txt'"
      ]
     },
     "execution_count": 16,
     "metadata": {},
     "output_type": "execute_result"
    }
   ],
   "source": [
    "rename_my_file('may-01_melbourne.txt')"
   ]
  },
  {
   "cell_type": "markdown",
   "id": "c2c9ee89-fe23-43d5-a7ca-9e2d087cff7b",
   "metadata": {},
   "source": [
    "**Task 3**"
   ]
  },
  {
   "cell_type": "code",
   "execution_count": 17,
   "id": "4b811de6-5138-4fcf-bea9-f36fa2c23010",
   "metadata": {
    "scrolled": true
   },
   "outputs": [
    {
     "name": "stdout",
     "output_type": "stream",
     "text": [
      "oct-08_singapore.txt ----> 10-08_singapore.txt\n",
      "jul-10_cairo.txt ----> 07-10_cairo.txt\n",
      "may-15_dhaka.txt ----> 05-15_dhaka.txt\n",
      "may-13_cairo.txt ----> 05-13_cairo.txt\n",
      "oct-21_cairo.txt ----> 10-21_cairo.txt\n",
      "jan-10_singapore.txt ----> 01-10_singapore.txt\n",
      "jun-20_tokyo.txt ----> 06-20_tokyo.txt\n",
      "aug-06_jakarta.txt ----> 08-06_jakarta.txt\n",
      "dec-21_karachi.txt ----> 12-21_karachi.txt\n",
      "jan-01_tokyo.txt ----> 01-01_tokyo.txt\n"
     ]
    }
   ],
   "source": [
    "file_list = ['oct-08_singapore.txt', 'jul-10_cairo.txt', 'may-15_dhaka.txt',\n",
    "             'may-13_cairo.txt', 'oct-21_cairo.txt', 'jan-10_singapore.txt',\n",
    "             'jun-20_tokyo.txt', 'aug-06_jakarta.txt', 'dec-21_karachi.txt',\n",
    "             'jan-01_tokyo.txt']\n",
    "\n",
    "for old_filename in file_list:\n",
    "    new_filename = rename_my_file(old_filename)\n",
    "    print(f'{old_filename} ----> {new_filename}')\n"
   ]
  },
  {
   "cell_type": "markdown",
   "id": "f423cb17-4fb8-4a45-bdf3-b72a8d85ca2e",
   "metadata": {},
   "source": [
    "**Task 4**"
   ]
  },
  {
   "cell_type": "code",
   "execution_count": null,
   "id": "2e4067fb-6a57-4747-9257-2e4468f911ff",
   "metadata": {},
   "outputs": [],
   "source": [
    "glob.glob(,recursive=True)"
   ]
  },
  {
   "cell_type": "code",
   "execution_count": null,
   "id": "a5a59d37-2c16-47c5-b3b8-3bc2acaabbbd",
   "metadata": {},
   "outputs": [],
   "source": []
  }
 ],
 "metadata": {
  "kernelspec": {
   "display_name": "Python 3 (ipykernel)",
   "language": "python",
   "name": "python3"
  },
  "language_info": {
   "codemirror_mode": {
    "name": "ipython",
    "version": 3
   },
   "file_extension": ".py",
   "mimetype": "text/x-python",
   "name": "python",
   "nbconvert_exporter": "python",
   "pygments_lexer": "ipython3",
   "version": "3.11.5"
  },
  "toc": {
   "base_numbering": 1,
   "nav_menu": {},
   "number_sections": true,
   "sideBar": true,
   "skip_h1_title": false,
   "title_cell": "Table of Contents",
   "title_sidebar": "Contents",
   "toc_cell": false,
   "toc_position": {},
   "toc_section_display": true,
   "toc_window_display": false
  },
  "vscode": {
   "interpreter": {
    "hash": "31f2aee4e71d21fbe5cf8b01ff0e069b9275f58929596ceb00d14d90e3e16cd6"
   }
  }
 },
 "nbformat": 4,
 "nbformat_minor": 5
}
