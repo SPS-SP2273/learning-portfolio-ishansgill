{
 "cells": [
  {
   "attachments": {},
   "cell_type": "markdown",
   "id": "123456",
   "metadata": {},
   "source": [
    "<div style=\"text-align:left;font-size:2em\"><span style=\"font-weight:bolder;font-size:1.25em\">SP2273 | Learning Portfolio</span><br><br><span style=\"font-weight:bold;color:darkred\">Fundamentals (Good) Exercises</span></div>"
   ]
  },
  {
   "cell_type": "code",
   "execution_count": 2,
   "id": "2f7291eb-2965-4d01-a7b0-dc77710c7356",
   "metadata": {},
   "outputs": [
    {
     "name": "stdin",
     "output_type": "stream",
     "text": [
      "Give me a number? 20\n"
     ]
    },
    {
     "name": "stdout",
     "output_type": "stream",
     "text": [
      "You entered 20\n"
     ]
    }
   ],
   "source": [
    "user_input = input('Give me a number?')\n",
    "print('You entered', user_input)"
   ]
  },
  {
   "cell_type": "code",
   "execution_count": 4,
   "id": "3b1a7095-2561-4e3c-be30-3182913a1673",
   "metadata": {},
   "outputs": [],
   "source": [
    "def print_grade(score):\n",
    "    if 70 <= score <= 100:\n",
    "        print('The grade is: A')\n",
    "    elif 50 <= score < 70:\n",
    "        print('The grade is: B')\n",
    "    elif 35 <= score < 50:\n",
    "        print('The grade is: C')\n",
    "    elif 0 <= score < 35:\n",
    "        print('The grade is: Fail')\n",
    "    else:\n",
    "        print('Invalid input. Please enter a score between 0 and 100.')\n",
    "\n",
    "def main():\n",
    "    try:\n",
    "        user_input = input('Enter the student\\'s score: ')\n",
    "        score = float(user_input)\n",
    "        print_letter_grade(score)\n",
    "    except ValueError:\n",
    "        print('Invalid input. Please enter a numerical score.')\n",
    "\n"
   ]
  }
 ],
 "metadata": {
  "kernelspec": {
   "display_name": "Python 3 (ipykernel)",
   "language": "python",
   "name": "python3"
  },
  "language_info": {
   "codemirror_mode": {
    "name": "ipython",
    "version": 3
   },
   "file_extension": ".py",
   "mimetype": "text/x-python",
   "name": "python",
   "nbconvert_exporter": "python",
   "pygments_lexer": "ipython3",
   "version": "3.11.5"
  },
  "toc": {
   "base_numbering": 1,
   "nav_menu": {},
   "number_sections": true,
   "sideBar": true,
   "skip_h1_title": false,
   "title_cell": "Table of Contents",
   "title_sidebar": "Contents",
   "toc_cell": false,
   "toc_position": {},
   "toc_section_display": true,
   "toc_window_display": false
  },
  "vscode": {
   "interpreter": {
    "hash": "31f2aee4e71d21fbe5cf8b01ff0e069b9275f58929596ceb00d14d90e3e16cd6"
   }
  }
 },
 "nbformat": 4,
 "nbformat_minor": 5
}
